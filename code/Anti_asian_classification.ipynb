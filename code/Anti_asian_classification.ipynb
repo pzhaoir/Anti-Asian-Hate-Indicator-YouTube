{
  "nbformat": 4,
  "nbformat_minor": 0,
  "metadata": {
    "accelerator": "GPU",
    "colab": {
      "name": "Anti_asian_classification-3.ipynb",
      "provenance": [],
      "toc_visible": true
    },
    "kernelspec": {
      "display_name": "Python 3",
      "language": "python",
      "name": "python3"
    },
    "language_info": {
      "codemirror_mode": {
        "name": "ipython",
        "version": 3
      },
      "file_extension": ".py",
      "mimetype": "text/x-python",
      "name": "python",
      "nbconvert_exporter": "python",
      "pygments_lexer": "ipython3",
      "version": "3.7.6"
    }
  },
  "cells": [
    {
      "cell_type": "markdown",
      "metadata": {
        "id": "FfvvZe1Bd80V"
      },
      "source": [
        "# Data cleaning"
      ]
    },
    {
      "cell_type": "code",
      "metadata": {
        "colab": {
          "base_uri": "https://localhost:8080/"
        },
        "id": "tLhJ6XZZRGGr",
        "outputId": "6507aa69-7d57-41b9-9939-f8a5d602a4f0"
      },
      "source": [
        "import nltk\r\n",
        "nltk.download('stopwords')"
      ],
      "execution_count": null,
      "outputs": [
        {
          "output_type": "stream",
          "text": [
            "[nltk_data] Downloading package stopwords to /root/nltk_data...\n",
            "[nltk_data]   Package stopwords is already up-to-date!\n"
          ],
          "name": "stdout"
        },
        {
          "output_type": "execute_result",
          "data": {
            "text/plain": [
              "True"
            ]
          },
          "metadata": {
            "tags": []
          },
          "execution_count": 2
        }
      ]
    },
    {
      "cell_type": "code",
      "metadata": {
        "colab": {
          "base_uri": "https://localhost:8080/",
          "height": 204
        },
        "id": "w2TMUieDP9ES",
        "outputId": "f91ae605-51b6-4cf5-e4b3-01104d816787"
      },
      "source": [
        "import numpy as np \r\n",
        "import pandas as pd\r\n",
        "import re\r\n",
        "#import nltk\r\n",
        "#nltk.download('stopwords')\r\n",
        "#from nltk.corpus import stopwords\r\n",
        "#stop_words = set(stopwords.words('english'))\r\n",
        "#from nltk.stem import PorterStemmer \r\n",
        "#from nltk.tokenize import word_tokenize\r\n",
        "\r\n",
        "#from nltk.tokenize import sent_tokenize, word_tokenize\r\n",
        "#from nltk.stem import WordNetLemmatizer\r\n",
        "#from nltk.stem.porter import *\r\n",
        "#wordnet_lemmatizer = WordNetLemmatizer()\r\n",
        "\r\n",
        "\r\n",
        "data = pd.read_csv(\"sample_data/data.csv\")\r\n",
        "data[\"Label\"] = data[\"Label\"].replace({\"Non-hate\": 0, \"Hate\":1})\r\n",
        "data.head(5)"
      ],
      "execution_count": null,
      "outputs": [
        {
          "output_type": "execute_result",
          "data": {
            "text/html": [
              "<div>\n",
              "<style scoped>\n",
              "    .dataframe tbody tr th:only-of-type {\n",
              "        vertical-align: middle;\n",
              "    }\n",
              "\n",
              "    .dataframe tbody tr th {\n",
              "        vertical-align: top;\n",
              "    }\n",
              "\n",
              "    .dataframe thead th {\n",
              "        text-align: right;\n",
              "    }\n",
              "</style>\n",
              "<table border=\"1\" class=\"dataframe\">\n",
              "  <thead>\n",
              "    <tr style=\"text-align: right;\">\n",
              "      <th></th>\n",
              "      <th>Unnamed: 0</th>\n",
              "      <th>videoID</th>\n",
              "      <th>Comment</th>\n",
              "      <th>publishedAt</th>\n",
              "      <th>Channel</th>\n",
              "      <th>Label</th>\n",
              "    </tr>\n",
              "  </thead>\n",
              "  <tbody>\n",
              "    <tr>\n",
              "      <th>0</th>\n",
              "      <td>0</td>\n",
              "      <td>qFAju1K_tRg</td>\n",
              "      <td>So surreal. Itâs like looking at an older ve...</td>\n",
              "      <td>2020-03-12T16:26:20Z</td>\n",
              "      <td>Breitbart</td>\n",
              "      <td>0</td>\n",
              "    </tr>\n",
              "    <tr>\n",
              "      <th>1</th>\n",
              "      <td>1</td>\n",
              "      <td>eI6_hJrjt6U</td>\n",
              "      <td>If you agree with Breitbart for playing this y...</td>\n",
              "      <td>2020-09-09T03:26:42Z</td>\n",
              "      <td>Breitbart</td>\n",
              "      <td>0</td>\n",
              "    </tr>\n",
              "    <tr>\n",
              "      <th>2</th>\n",
              "      <td>2</td>\n",
              "      <td>Op604Lh8UOI</td>\n",
              "      <td>Why is lying cheating, stealing CIA criminal P...</td>\n",
              "      <td>2020-03-21T17:53:26Z</td>\n",
              "      <td>Breitbart</td>\n",
              "      <td>0</td>\n",
              "    </tr>\n",
              "    <tr>\n",
              "      <th>3</th>\n",
              "      <td>3</td>\n",
              "      <td>qik2wyLe2DA</td>\n",
              "      <td>I have always thought the dems and media's bul...</td>\n",
              "      <td>2020-04-14T12:08:07Z</td>\n",
              "      <td>Breitbart</td>\n",
              "      <td>0</td>\n",
              "    </tr>\n",
              "    <tr>\n",
              "      <th>4</th>\n",
              "      <td>4</td>\n",
              "      <td>aWMn_X2cED4</td>\n",
              "      <td>But but I thought they were against daily brie...</td>\n",
              "      <td>2020-05-12T21:37:47Z</td>\n",
              "      <td>Breitbart</td>\n",
              "      <td>0</td>\n",
              "    </tr>\n",
              "  </tbody>\n",
              "</table>\n",
              "</div>"
            ],
            "text/plain": [
              "   Unnamed: 0      videoID  ...    Channel Label\n",
              "0           0  qFAju1K_tRg  ...  Breitbart     0\n",
              "1           1  eI6_hJrjt6U  ...  Breitbart     0\n",
              "2           2  Op604Lh8UOI  ...  Breitbart     0\n",
              "3           3  qik2wyLe2DA  ...  Breitbart     0\n",
              "4           4  aWMn_X2cED4  ...  Breitbart     0\n",
              "\n",
              "[5 rows x 6 columns]"
            ]
          },
          "metadata": {
            "tags": []
          },
          "execution_count": 3
        }
      ]
    },
    {
      "cell_type": "code",
      "metadata": {
        "id": "vqRbBGuQd80V",
        "colab": {
          "base_uri": "https://localhost:8080/",
          "height": 306
        },
        "outputId": "a3b82d57-7f79-4657-8be2-ffd6896d2758"
      },
      "source": [
        "\n",
        "def process_comment(text):\n",
        "    #Remove www.* or https?://*\n",
        "    text = re.sub('((www\\.[^\\s]+)|(https?://[^\\s]+))\\s+','',text)\n",
        "    text = re.sub('\\s+((www\\.[^\\s]+)|(https?://[^\\s]+))','',text)\n",
        "    text = re.sub('((www\\.[^\\s]+)|(https?://[^\\s]+))',' ',text)\n",
        "    #Remove @username\n",
        "    #text = re.sub(r\"(@[A-Za-z0-9]+)|([^0-9A-Za-z \\t])|(\\w+:\\/\\/\\S+)|^rt|http.+?\", \"\", text)\n",
        "    text = re.sub('@[^\\s]+','',text)\n",
        "    text = re.sub('#[^\\s]+','',text)\n",
        "     # specific\n",
        "    text = re.sub(r\"won\\'t\", \"will not\", text)\n",
        "    text = re.sub(r\"can\\'t\", \"can not\", text)\n",
        "    # general\n",
        "    text = re.sub(r\"n\\'t\", \" not\", text)\n",
        "    text = re.sub(r\"\\'re\", \" are\", text)\n",
        "    text = re.sub(r\"\\'s\", \" is\", text)\n",
        "    text = re.sub(r\"\\'d\", \" would\", text)\n",
        "    text = re.sub(r\"\\'ll\", \" will\", text)\n",
        "    text = re.sub(r\"\\'t\", \" not\", text)\n",
        "    text = re.sub(r\"\\'ve\", \" have\", text)\n",
        "    text = re.sub(r\"\\'m\", \" am\", text)\n",
        "    #Remove additional white spaces\n",
        "    text = re.sub('[\\s]+', ' ', text)\n",
        "    #Remove emojis\n",
        "    text = re.sub(r'[^\\x00-\\x7F]+', '', text)\n",
        "    emoji_pattern = re.compile(\"[\"\n",
        "        u\"\\U0001F600-\\U0001F64F\"  # emoticons\n",
        "        u\"\\U0001F300-\\U0001F5FF\"  # symbols & pictographs\n",
        "        u\"\\U0001F680-\\U0001F6FF\"  # transport & map symbols\n",
        "        u\"\\U0001F1E0-\\U0001F1FF\"  # flags (iOS)\n",
        "                           \"]+\", flags=re.UNICODE)\n",
        "    text = emoji_pattern.sub(r'', text)\n",
        "    text = re.sub(r\"(@[A-Za-z0-9]+)|([^0-9A-Za-z \\t])|(\\w+:\\/\\/\\S+)|^rt|http.+?\", \"\", text)\n",
        "    text = re.sub(r\"\\d+\", \"\", text)\n",
        "    text = text.lower().strip()\n",
        "    return text\n",
        "\n",
        "data[\"Cleaned_Comment\"] = data[\"Comment\"].apply(lambda x: process_comment(x))\n",
        "data.head(5)\n"
      ],
      "execution_count": null,
      "outputs": [
        {
          "output_type": "execute_result",
          "data": {
            "text/html": [
              "<div>\n",
              "<style scoped>\n",
              "    .dataframe tbody tr th:only-of-type {\n",
              "        vertical-align: middle;\n",
              "    }\n",
              "\n",
              "    .dataframe tbody tr th {\n",
              "        vertical-align: top;\n",
              "    }\n",
              "\n",
              "    .dataframe thead th {\n",
              "        text-align: right;\n",
              "    }\n",
              "</style>\n",
              "<table border=\"1\" class=\"dataframe\">\n",
              "  <thead>\n",
              "    <tr style=\"text-align: right;\">\n",
              "      <th></th>\n",
              "      <th>Unnamed: 0</th>\n",
              "      <th>videoID</th>\n",
              "      <th>Comment</th>\n",
              "      <th>publishedAt</th>\n",
              "      <th>Channel</th>\n",
              "      <th>Label</th>\n",
              "      <th>Cleaned_Comment</th>\n",
              "    </tr>\n",
              "  </thead>\n",
              "  <tbody>\n",
              "    <tr>\n",
              "      <th>0</th>\n",
              "      <td>0</td>\n",
              "      <td>qFAju1K_tRg</td>\n",
              "      <td>So surreal. Itâs like looking at an older ve...</td>\n",
              "      <td>2020-03-12T16:26:20Z</td>\n",
              "      <td>Breitbart</td>\n",
              "      <td>0</td>\n",
              "      <td>so surreal its like looking at an older versio...</td>\n",
              "    </tr>\n",
              "    <tr>\n",
              "      <th>1</th>\n",
              "      <td>1</td>\n",
              "      <td>eI6_hJrjt6U</td>\n",
              "      <td>If you agree with Breitbart for playing this y...</td>\n",
              "      <td>2020-09-09T03:26:42Z</td>\n",
              "      <td>Breitbart</td>\n",
              "      <td>0</td>\n",
              "      <td>if you agree with breitbart for playing this y...</td>\n",
              "    </tr>\n",
              "    <tr>\n",
              "      <th>2</th>\n",
              "      <td>2</td>\n",
              "      <td>Op604Lh8UOI</td>\n",
              "      <td>Why is lying cheating, stealing CIA criminal P...</td>\n",
              "      <td>2020-03-21T17:53:26Z</td>\n",
              "      <td>Breitbart</td>\n",
              "      <td>0</td>\n",
              "      <td>why is lying cheating stealing cia criminal po...</td>\n",
              "    </tr>\n",
              "    <tr>\n",
              "      <th>3</th>\n",
              "      <td>3</td>\n",
              "      <td>qik2wyLe2DA</td>\n",
              "      <td>I have always thought the dems and media's bul...</td>\n",
              "      <td>2020-04-14T12:08:07Z</td>\n",
              "      <td>Breitbart</td>\n",
              "      <td>0</td>\n",
              "      <td>i have always thought the dems and media is bu...</td>\n",
              "    </tr>\n",
              "    <tr>\n",
              "      <th>4</th>\n",
              "      <td>4</td>\n",
              "      <td>aWMn_X2cED4</td>\n",
              "      <td>But but I thought they were against daily brie...</td>\n",
              "      <td>2020-05-12T21:37:47Z</td>\n",
              "      <td>Breitbart</td>\n",
              "      <td>0</td>\n",
              "      <td>but but i thought they were against daily brie...</td>\n",
              "    </tr>\n",
              "  </tbody>\n",
              "</table>\n",
              "</div>"
            ],
            "text/plain": [
              "   Unnamed: 0  ...                                    Cleaned_Comment\n",
              "0           0  ...  so surreal its like looking at an older versio...\n",
              "1           1  ...  if you agree with breitbart for playing this y...\n",
              "2           2  ...  why is lying cheating stealing cia criminal po...\n",
              "3           3  ...  i have always thought the dems and media is bu...\n",
              "4           4  ...  but but i thought they were against daily brie...\n",
              "\n",
              "[5 rows x 7 columns]"
            ]
          },
          "metadata": {
            "tags": []
          },
          "execution_count": 4
        }
      ]
    },
    {
      "cell_type": "code",
      "metadata": {
        "id": "srTydgrO4TzY"
      },
      "source": [
        "data.to_csv(\"sample_data/data-4.csv\")"
      ],
      "execution_count": null,
      "outputs": []
    },
    {
      "cell_type": "code",
      "metadata": {
        "id": "MJlzHDvYd80X"
      },
      "source": [
        "dataset = data[[\"videoID\", \"Cleaned_Comment\", \"publishedAt\", \"Channel\", \"Label\"]]\n",
        "dataset = dataset.rename(columns={\"Cleaned_Comment\":\"Comment\"})\n",
        "dataset = dataset[dataset[\"Comment\"]!=\"\"]\n",
        "dataset = dataset.reset_index()"
      ],
      "execution_count": null,
      "outputs": []
    },
    {
      "cell_type": "code",
      "metadata": {
        "colab": {
          "base_uri": "https://localhost:8080/",
          "height": 69
        },
        "id": "7-oFEvUfROsx",
        "outputId": "4e09d8d7-24e6-4f95-e5d9-1bffdd568540"
      },
      "source": [
        "dataset[\"Comment\"][3045]"
      ],
      "execution_count": null,
      "outputs": [
        {
          "output_type": "execute_result",
          "data": {
            "application/vnd.google.colaboratory.intrinsic+json": {
              "type": "string"
            },
            "text/plain": [
              "'ccp is far advance with nanotechnology  recently they presented their nano penises  mr ted seems to like it  he calls it revolutionary and true game changer  he finished with quote  now i dont need us funding  with the xis micropenis  i can never be unsatisfied  yes ccp has done great blowjob in keeping wuhan virus local affairs'"
            ]
          },
          "metadata": {
            "tags": []
          },
          "execution_count": 15
        }
      ]
    },
    {
      "cell_type": "code",
      "metadata": {
        "colab": {
          "base_uri": "https://localhost:8080/"
        },
        "id": "gRDTmAJ5QlOA",
        "outputId": "72e03d9f-119f-4649-e42a-737815cccc0d"
      },
      "source": [
        "print(data.shape)\r\n",
        "print(dataset.shape)"
      ],
      "execution_count": null,
      "outputs": [
        {
          "output_type": "stream",
          "text": [
            "(3759, 7)\n",
            "(3733, 6)\n"
          ],
          "name": "stdout"
        }
      ]
    },
    {
      "cell_type": "code",
      "metadata": {
        "id": "6VJ9pHZ5d80a",
        "colab": {
          "base_uri": "https://localhost:8080/",
          "height": 204
        },
        "outputId": "717cb031-e4a5-4fce-a230-57ba335c7a49"
      },
      "source": [
        "dataset.head(5)"
      ],
      "execution_count": null,
      "outputs": [
        {
          "output_type": "execute_result",
          "data": {
            "text/html": [
              "<div>\n",
              "<style scoped>\n",
              "    .dataframe tbody tr th:only-of-type {\n",
              "        vertical-align: middle;\n",
              "    }\n",
              "\n",
              "    .dataframe tbody tr th {\n",
              "        vertical-align: top;\n",
              "    }\n",
              "\n",
              "    .dataframe thead th {\n",
              "        text-align: right;\n",
              "    }\n",
              "</style>\n",
              "<table border=\"1\" class=\"dataframe\">\n",
              "  <thead>\n",
              "    <tr style=\"text-align: right;\">\n",
              "      <th></th>\n",
              "      <th>index</th>\n",
              "      <th>videoID</th>\n",
              "      <th>Comment</th>\n",
              "      <th>publishedAt</th>\n",
              "      <th>Channel</th>\n",
              "      <th>Label</th>\n",
              "    </tr>\n",
              "  </thead>\n",
              "  <tbody>\n",
              "    <tr>\n",
              "      <th>0</th>\n",
              "      <td>0</td>\n",
              "      <td>qFAju1K_tRg</td>\n",
              "      <td>so surreal its like looking at an older versio...</td>\n",
              "      <td>2020-03-12T16:26:20Z</td>\n",
              "      <td>Breitbart</td>\n",
              "      <td>0</td>\n",
              "    </tr>\n",
              "    <tr>\n",
              "      <th>1</th>\n",
              "      <td>1</td>\n",
              "      <td>eI6_hJrjt6U</td>\n",
              "      <td>if you agree with breitbart for playing this y...</td>\n",
              "      <td>2020-09-09T03:26:42Z</td>\n",
              "      <td>Breitbart</td>\n",
              "      <td>0</td>\n",
              "    </tr>\n",
              "    <tr>\n",
              "      <th>2</th>\n",
              "      <td>2</td>\n",
              "      <td>Op604Lh8UOI</td>\n",
              "      <td>why is lying cheating stealing cia criminal po...</td>\n",
              "      <td>2020-03-21T17:53:26Z</td>\n",
              "      <td>Breitbart</td>\n",
              "      <td>0</td>\n",
              "    </tr>\n",
              "    <tr>\n",
              "      <th>3</th>\n",
              "      <td>3</td>\n",
              "      <td>qik2wyLe2DA</td>\n",
              "      <td>i have always thought the dems and media is bu...</td>\n",
              "      <td>2020-04-14T12:08:07Z</td>\n",
              "      <td>Breitbart</td>\n",
              "      <td>0</td>\n",
              "    </tr>\n",
              "    <tr>\n",
              "      <th>4</th>\n",
              "      <td>4</td>\n",
              "      <td>aWMn_X2cED4</td>\n",
              "      <td>but but i thought they were against daily brie...</td>\n",
              "      <td>2020-05-12T21:37:47Z</td>\n",
              "      <td>Breitbart</td>\n",
              "      <td>0</td>\n",
              "    </tr>\n",
              "  </tbody>\n",
              "</table>\n",
              "</div>"
            ],
            "text/plain": [
              "   index      videoID  ...    Channel Label\n",
              "0      0  qFAju1K_tRg  ...  Breitbart     0\n",
              "1      1  eI6_hJrjt6U  ...  Breitbart     0\n",
              "2      2  Op604Lh8UOI  ...  Breitbart     0\n",
              "3      3  qik2wyLe2DA  ...  Breitbart     0\n",
              "4      4  aWMn_X2cED4  ...  Breitbart     0\n",
              "\n",
              "[5 rows x 6 columns]"
            ]
          },
          "metadata": {
            "tags": []
          },
          "execution_count": 5
        }
      ]
    },
    {
      "cell_type": "markdown",
      "metadata": {
        "id": "gxbazBxgd80a"
      },
      "source": [
        "# Bert Embedding"
      ]
    },
    {
      "cell_type": "code",
      "metadata": {
        "colab": {
          "base_uri": "https://localhost:8080/"
        },
        "id": "G9SGeeHxgDFs",
        "outputId": "dad2db38-9aa6-4e95-8a66-17ab159e96d1"
      },
      "source": [
        "!pip install transformers"
      ],
      "execution_count": null,
      "outputs": [
        {
          "output_type": "stream",
          "text": [
            "Requirement already satisfied: transformers in /usr/local/lib/python3.6/dist-packages (4.2.1)\n",
            "Requirement already satisfied: regex!=2019.12.17 in /usr/local/lib/python3.6/dist-packages (from transformers) (2019.12.20)\n",
            "Requirement already satisfied: dataclasses; python_version < \"3.7\" in /usr/local/lib/python3.6/dist-packages (from transformers) (0.8)\n",
            "Requirement already satisfied: tqdm>=4.27 in /usr/local/lib/python3.6/dist-packages (from transformers) (4.41.1)\n",
            "Requirement already satisfied: sacremoses in /usr/local/lib/python3.6/dist-packages (from transformers) (0.0.43)\n",
            "Requirement already satisfied: tokenizers==0.9.4 in /usr/local/lib/python3.6/dist-packages (from transformers) (0.9.4)\n",
            "Requirement already satisfied: filelock in /usr/local/lib/python3.6/dist-packages (from transformers) (3.0.12)\n",
            "Requirement already satisfied: requests in /usr/local/lib/python3.6/dist-packages (from transformers) (2.23.0)\n",
            "Requirement already satisfied: importlib-metadata; python_version < \"3.8\" in /usr/local/lib/python3.6/dist-packages (from transformers) (3.3.0)\n",
            "Requirement already satisfied: packaging in /usr/local/lib/python3.6/dist-packages (from transformers) (20.8)\n",
            "Requirement already satisfied: numpy in /usr/local/lib/python3.6/dist-packages (from transformers) (1.19.5)\n",
            "Requirement already satisfied: six in /usr/local/lib/python3.6/dist-packages (from sacremoses->transformers) (1.15.0)\n",
            "Requirement already satisfied: click in /usr/local/lib/python3.6/dist-packages (from sacremoses->transformers) (7.1.2)\n",
            "Requirement already satisfied: joblib in /usr/local/lib/python3.6/dist-packages (from sacremoses->transformers) (1.0.0)\n",
            "Requirement already satisfied: urllib3!=1.25.0,!=1.25.1,<1.26,>=1.21.1 in /usr/local/lib/python3.6/dist-packages (from requests->transformers) (1.24.3)\n",
            "Requirement already satisfied: chardet<4,>=3.0.2 in /usr/local/lib/python3.6/dist-packages (from requests->transformers) (3.0.4)\n",
            "Requirement already satisfied: certifi>=2017.4.17 in /usr/local/lib/python3.6/dist-packages (from requests->transformers) (2020.12.5)\n",
            "Requirement already satisfied: idna<3,>=2.5 in /usr/local/lib/python3.6/dist-packages (from requests->transformers) (2.10)\n",
            "Requirement already satisfied: zipp>=0.5 in /usr/local/lib/python3.6/dist-packages (from importlib-metadata; python_version < \"3.8\"->transformers) (3.4.0)\n",
            "Requirement already satisfied: typing-extensions>=3.6.4; python_version < \"3.8\" in /usr/local/lib/python3.6/dist-packages (from importlib-metadata; python_version < \"3.8\"->transformers) (3.7.4.3)\n",
            "Requirement already satisfied: pyparsing>=2.0.2 in /usr/local/lib/python3.6/dist-packages (from packaging->transformers) (2.4.7)\n"
          ],
          "name": "stdout"
        }
      ]
    },
    {
      "cell_type": "code",
      "metadata": {
        "id": "1LP_3X9Jd80b"
      },
      "source": [
        "import numpy as np\n",
        "import torch\n",
        "import transformers as ppb\n",
        "from sklearn.model_selection import cross_val_score\n",
        "from sklearn.model_selection import train_test_split\n",
        "\n",
        "\n",
        "model_class, tokenizer_class, pretrained_weights = (ppb.BertModel, ppb.BertTokenizer, 'bert-base-uncased')\n",
        "#model_class, tokenizer_class, pretrained_weights = (ppb.DistilBertModel, ppb.DistilBertTokenizer, 'distilbert-base-uncased')\n",
        "\n",
        "# Load pretrained model/tokenizer\n",
        "tokenizer = tokenizer_class.from_pretrained(pretrained_weights)\n",
        "model = model_class.from_pretrained(pretrained_weights)\n",
        "\n",
        "# Tokenization\n",
        "#tokenized = dataset[\"Comment\"].apply((lambda x: tokenizer.encode(x, max_length = 100,truncation=True, add_special_tokens=True)))\n",
        "tokenized = dataset[\"Comment\"].apply((lambda x: tokenizer.encode(x, max_length = 20, truncation=True, add_special_tokens=True)))"
      ],
      "execution_count": null,
      "outputs": []
    },
    {
      "cell_type": "code",
      "metadata": {
        "colab": {
          "base_uri": "https://localhost:8080/"
        },
        "id": "sfU4T_3Bd80c",
        "outputId": "caa75df2-7abb-40d2-c7bb-2d137206c25e"
      },
      "source": [
        "# Padding\n",
        "\n",
        "max_len = 0\n",
        "for i in tokenized.values:\n",
        "    if len(i) > max_len:\n",
        "        max_len = len(i)\n",
        "\n",
        "padded = np.array([i + [0]*(max_len-len(i)) for i in tokenized.values])\n",
        "np.array(padded).shape"
      ],
      "execution_count": null,
      "outputs": [
        {
          "output_type": "execute_result",
          "data": {
            "text/plain": [
              "(3733, 20)"
            ]
          },
          "metadata": {
            "tags": []
          },
          "execution_count": 9
        }
      ]
    },
    {
      "cell_type": "code",
      "metadata": {
        "colab": {
          "base_uri": "https://localhost:8080/"
        },
        "id": "tTkFjeStd80d",
        "outputId": "90e902e2-ae44-4abd-bcca-052b4046d5bf"
      },
      "source": [
        "attention_mask = np.where(padded != 0, 1, 0)\n",
        "attention_mask.shape"
      ],
      "execution_count": null,
      "outputs": [
        {
          "output_type": "execute_result",
          "data": {
            "text/plain": [
              "(3733, 20)"
            ]
          },
          "metadata": {
            "tags": []
          },
          "execution_count": 10
        }
      ]
    },
    {
      "cell_type": "code",
      "metadata": {
        "colab": {
          "base_uri": "https://localhost:8080/"
        },
        "id": "PqXoZ_zcd80d",
        "outputId": "165e5a7e-17a4-4ab0-c355-c0aa342617d1"
      },
      "source": [
        "padded"
      ],
      "execution_count": null,
      "outputs": [
        {
          "output_type": "execute_result",
          "data": {
            "text/plain": [
              "array([[  101,  2061, 16524, ...,  2214, 18081,   102],\n",
              "       [  101,  2065,  2017, ..., 16784,  2039,   102],\n",
              "       [  101,  2339,  2003, ...,  1998,  2054,   102],\n",
              "       ...,\n",
              "       [  101,  2023,  8814, ...,  5974,  6176,   102],\n",
              "       [  101,  2339,  2515, ...,  2137,  2024,   102],\n",
              "       [  101,  1999,  2613, ...,  8814,  4819,   102]])"
            ]
          },
          "metadata": {
            "tags": []
          },
          "execution_count": 11
        }
      ]
    },
    {
      "cell_type": "code",
      "metadata": {
        "colab": {
          "base_uri": "https://localhost:8080/"
        },
        "id": "tLPpaUSqd80e",
        "outputId": "4502aacb-f8ec-4537-ff37-44b89c9603f5"
      },
      "source": [
        "tokenized.values"
      ],
      "execution_count": null,
      "outputs": [
        {
          "output_type": "execute_result",
          "data": {
            "text/plain": [
              "array([list([101, 2061, 16524, 2049, 2066, 2559, 2012, 2019, 3080, 2544, 1997, 18520, 2054, 1037, 3972, 14499, 2389, 2214, 18081, 102]),\n",
              "       list([101, 2065, 2017, 5993, 2007, 7987, 20175, 8237, 2102, 2005, 2652, 2023, 2017, 2323, 2507, 2009, 1037, 16784, 2039, 102]),\n",
              "       list([101, 2339, 2003, 4688, 16789, 11065, 9915, 4735, 13433, 8737, 8780, 2085, 4760, 2039, 2000, 2122, 9281, 1998, 2054, 102]),\n",
              "       ...,\n",
              "       list([101, 2023, 8814, 4819, 7865, 2003, 2886, 2668, 2828, 1037, 2111, 3531, 2668, 2828, 1037, 1998, 11113, 5974, 6176, 102]),\n",
              "       list([101, 2339, 2515, 2002, 2031, 18453, 2000, 2360, 2822, 7865, 2030, 18577, 19857, 4783, 3540, 8557, 2822, 2137, 2024, 102]),\n",
              "       list([101, 1999, 2613, 2088, 5443, 11274, 2088, 2613, 2088, 2637, 2038, 2053, 2343, 5292, 3270, 18577, 19857, 8814, 4819, 102])],\n",
              "      dtype=object)"
            ]
          },
          "metadata": {
            "tags": []
          },
          "execution_count": 12
        }
      ]
    },
    {
      "cell_type": "code",
      "metadata": {
        "colab": {
          "base_uri": "https://localhost:8080/"
        },
        "id": "GjXEJSh0d80f",
        "outputId": "9c7e2712-b6c0-42ca-a113-e68d02473caf"
      },
      "source": [
        "len(tokenized)"
      ],
      "execution_count": null,
      "outputs": [
        {
          "output_type": "execute_result",
          "data": {
            "text/plain": [
              "3733"
            ]
          },
          "metadata": {
            "tags": []
          },
          "execution_count": 13
        }
      ]
    },
    {
      "cell_type": "code",
      "metadata": {
        "colab": {
          "base_uri": "https://localhost:8080/"
        },
        "id": "LcC-IhWgd80g",
        "outputId": "443f25e0-05b2-4d28-a7c4-e446cd868a6a"
      },
      "source": [
        "attention_mask"
      ],
      "execution_count": null,
      "outputs": [
        {
          "output_type": "execute_result",
          "data": {
            "text/plain": [
              "array([[1, 1, 1, ..., 1, 1, 1],\n",
              "       [1, 1, 1, ..., 1, 1, 1],\n",
              "       [1, 1, 1, ..., 1, 1, 1],\n",
              "       ...,\n",
              "       [1, 1, 1, ..., 1, 1, 1],\n",
              "       [1, 1, 1, ..., 1, 1, 1],\n",
              "       [1, 1, 1, ..., 1, 1, 1]])"
            ]
          },
          "metadata": {
            "tags": []
          },
          "execution_count": 14
        }
      ]
    },
    {
      "cell_type": "code",
      "metadata": {
        "id": "Ej9N93NGd80h",
        "scrolled": true
      },
      "source": [
        "# Through Bert\n",
        "\n",
        "input_ids = torch.tensor(padded)  \n",
        "attention_mask = torch.tensor(attention_mask)\n",
        "\n",
        "with torch.no_grad():\n",
        "    last_hidden_states = model(input_ids, attention_mask=attention_mask)\n",
        "    \n",
        "features = last_hidden_states[0][:,0,:].numpy()\n",
        "#labels = dataset[\"Label\"]"
      ],
      "execution_count": null,
      "outputs": []
    },
    {
      "cell_type": "code",
      "metadata": {
        "colab": {
          "base_uri": "https://localhost:8080/"
        },
        "id": "VqJOWh9osjtJ",
        "outputId": "54a405c7-d9de-48e4-adfc-5961fd192f8a"
      },
      "source": [
        "features"
      ],
      "execution_count": null,
      "outputs": [
        {
          "output_type": "execute_result",
          "data": {
            "text/plain": [
              "array([[-0.15585607,  0.5265683 , -0.06358972, ..., -0.21254304,\n",
              "         0.43621236,  0.37098852],\n",
              "       [-0.09106139, -0.06965308, -0.08741443, ..., -0.13359126,\n",
              "         0.42896354,  0.41610092],\n",
              "       [-0.17921373,  0.16137438, -0.27497485, ..., -0.3737376 ,\n",
              "         0.5534895 ,  0.20148773],\n",
              "       ...,\n",
              "       [-0.12465265,  0.1322558 ,  0.16998237, ..., -0.6916145 ,\n",
              "         0.64922667,  0.10799572],\n",
              "       [-0.11429942,  0.19516681, -0.0261239 , ..., -0.39593658,\n",
              "         0.62026715,  0.3506601 ],\n",
              "       [-0.7328676 , -0.20874363,  0.14465337, ..., -0.57219785,\n",
              "         0.60289717,  0.5307563 ]], dtype=float32)"
            ]
          },
          "metadata": {
            "tags": []
          },
          "execution_count": 16
        }
      ]
    },
    {
      "cell_type": "code",
      "metadata": {
        "id": "aCdmS4jG7rXm"
      },
      "source": [
        "from numpy import savetxt\r\n",
        "savetxt('features.csv', features, delimiter=',')"
      ],
      "execution_count": null,
      "outputs": []
    },
    {
      "cell_type": "code",
      "metadata": {
        "id": "ZcM_HJlk84_q",
        "colab": {
          "base_uri": "https://localhost:8080/"
        },
        "outputId": "be56811f-8cdf-43a7-96de-b2c5fa6d1938"
      },
      "source": [
        "from numpy import loadtxt\r\n",
        "# load array\r\n",
        "features = loadtxt('sample_data/features.csv', delimiter=',')\r\n",
        "print(features)"
      ],
      "execution_count": null,
      "outputs": [
        {
          "output_type": "stream",
          "text": [
            "[[-0.15585607  0.52656829 -0.06358972 ... -0.21254304  0.43621236\n",
            "   0.37098852]\n",
            " [-0.09106139 -0.06965308 -0.08741443 ... -0.13359126  0.42896354\n",
            "   0.41610092]\n",
            " [-0.17921373  0.16137438 -0.27497485 ... -0.3737376   0.55348951\n",
            "   0.20148773]\n",
            " ...\n",
            " [-0.12465265  0.13225579  0.16998237 ... -0.69161451  0.64922667\n",
            "   0.10799572]\n",
            " [-0.11429942  0.19516681 -0.0261239  ... -0.39593658  0.62026715\n",
            "   0.35066009]\n",
            " [-0.7328676  -0.20874363  0.14465337 ... -0.57219785  0.60289717\n",
            "   0.53075629]]\n"
          ],
          "name": "stdout"
        }
      ]
    },
    {
      "cell_type": "code",
      "metadata": {
        "id": "YFiGRIuenF7d"
      },
      "source": [
        "from sklearn.model_selection import cross_val_score\r\n",
        "from sklearn.model_selection import train_test_split"
      ],
      "execution_count": null,
      "outputs": []
    },
    {
      "cell_type": "code",
      "metadata": {
        "id": "xLDBAULkd80i"
      },
      "source": [
        "labels = dataset[\"Label\"]\r\n",
        "train_features, test_features, train_labels, test_labels = train_test_split(features, labels, test_size= 0.2) "
      ],
      "execution_count": null,
      "outputs": []
    },
    {
      "cell_type": "markdown",
      "metadata": {
        "id": "RpLaoi_hzMrL"
      },
      "source": [
        "#Model Training"
      ]
    },
    {
      "cell_type": "markdown",
      "metadata": {
        "id": "hthzAF6QtMu1"
      },
      "source": [
        "##Logistic Regression"
      ]
    },
    {
      "cell_type": "code",
      "metadata": {
        "id": "0SAs0F9id80i",
        "colab": {
          "base_uri": "https://localhost:8080/"
        },
        "outputId": "8c628b5e-5588-4d95-918b-aad2b91d76a4"
      },
      "source": [
        "from sklearn.linear_model import LogisticRegression\r\n",
        "\r\n",
        "lr_clf = LogisticRegression()\r\n",
        "lr_clf.fit(train_features, train_labels)"
      ],
      "execution_count": null,
      "outputs": [
        {
          "output_type": "stream",
          "text": [
            "/usr/local/lib/python3.6/dist-packages/sklearn/linear_model/_logistic.py:940: ConvergenceWarning: lbfgs failed to converge (status=1):\n",
            "STOP: TOTAL NO. of ITERATIONS REACHED LIMIT.\n",
            "\n",
            "Increase the number of iterations (max_iter) or scale the data as shown in:\n",
            "    https://scikit-learn.org/stable/modules/preprocessing.html\n",
            "Please also refer to the documentation for alternative solver options:\n",
            "    https://scikit-learn.org/stable/modules/linear_model.html#logistic-regression\n",
            "  extra_warning_msg=_LOGISTIC_SOLVER_CONVERGENCE_MSG)\n"
          ],
          "name": "stderr"
        },
        {
          "output_type": "execute_result",
          "data": {
            "text/plain": [
              "LogisticRegression(C=1.0, class_weight=None, dual=False, fit_intercept=True,\n",
              "                   intercept_scaling=1, l1_ratio=None, max_iter=100,\n",
              "                   multi_class='auto', n_jobs=None, penalty='l2',\n",
              "                   random_state=None, solver='lbfgs', tol=0.0001, verbose=0,\n",
              "                   warm_start=False)"
            ]
          },
          "metadata": {
            "tags": []
          },
          "execution_count": 17
        }
      ]
    },
    {
      "cell_type": "code",
      "metadata": {
        "colab": {
          "base_uri": "https://localhost:8080/"
        },
        "id": "FCnYuDXPtTvy",
        "outputId": "5288bf69-2d7f-4252-b43a-1c0f6864851a"
      },
      "source": [
        "lr_clf.score(test_features, test_labels)"
      ],
      "execution_count": null,
      "outputs": [
        {
          "output_type": "execute_result",
          "data": {
            "text/plain": [
              "0.8982597054886211"
            ]
          },
          "metadata": {
            "tags": []
          },
          "execution_count": 18
        }
      ]
    },
    {
      "cell_type": "code",
      "metadata": {
        "colab": {
          "base_uri": "https://localhost:8080/"
        },
        "id": "YkLSh-JPDbIO",
        "outputId": "8c8b7e75-d476-4096-df54-b8301b4c5636"
      },
      "source": [
        "scores = cross_val_score(lr_clf, features, labels, cv=5)\r\n",
        "mean, std = np.mean(scores), np.std(scores)\r\n",
        "print(\"Mean: \", mean)\r\n",
        "print(\"st: \", std)"
      ],
      "execution_count": null,
      "outputs": [
        {
          "output_type": "stream",
          "text": [
            "/usr/local/lib/python3.6/dist-packages/sklearn/linear_model/_logistic.py:940: ConvergenceWarning: lbfgs failed to converge (status=1):\n",
            "STOP: TOTAL NO. of ITERATIONS REACHED LIMIT.\n",
            "\n",
            "Increase the number of iterations (max_iter) or scale the data as shown in:\n",
            "    https://scikit-learn.org/stable/modules/preprocessing.html\n",
            "Please also refer to the documentation for alternative solver options:\n",
            "    https://scikit-learn.org/stable/modules/linear_model.html#logistic-regression\n",
            "  extra_warning_msg=_LOGISTIC_SOLVER_CONVERGENCE_MSG)\n",
            "/usr/local/lib/python3.6/dist-packages/sklearn/linear_model/_logistic.py:940: ConvergenceWarning: lbfgs failed to converge (status=1):\n",
            "STOP: TOTAL NO. of ITERATIONS REACHED LIMIT.\n",
            "\n",
            "Increase the number of iterations (max_iter) or scale the data as shown in:\n",
            "    https://scikit-learn.org/stable/modules/preprocessing.html\n",
            "Please also refer to the documentation for alternative solver options:\n",
            "    https://scikit-learn.org/stable/modules/linear_model.html#logistic-regression\n",
            "  extra_warning_msg=_LOGISTIC_SOLVER_CONVERGENCE_MSG)\n",
            "/usr/local/lib/python3.6/dist-packages/sklearn/linear_model/_logistic.py:940: ConvergenceWarning: lbfgs failed to converge (status=1):\n",
            "STOP: TOTAL NO. of ITERATIONS REACHED LIMIT.\n",
            "\n",
            "Increase the number of iterations (max_iter) or scale the data as shown in:\n",
            "    https://scikit-learn.org/stable/modules/preprocessing.html\n",
            "Please also refer to the documentation for alternative solver options:\n",
            "    https://scikit-learn.org/stable/modules/linear_model.html#logistic-regression\n",
            "  extra_warning_msg=_LOGISTIC_SOLVER_CONVERGENCE_MSG)\n",
            "/usr/local/lib/python3.6/dist-packages/sklearn/linear_model/_logistic.py:940: ConvergenceWarning: lbfgs failed to converge (status=1):\n",
            "STOP: TOTAL NO. of ITERATIONS REACHED LIMIT.\n",
            "\n",
            "Increase the number of iterations (max_iter) or scale the data as shown in:\n",
            "    https://scikit-learn.org/stable/modules/preprocessing.html\n",
            "Please also refer to the documentation for alternative solver options:\n",
            "    https://scikit-learn.org/stable/modules/linear_model.html#logistic-regression\n",
            "  extra_warning_msg=_LOGISTIC_SOLVER_CONVERGENCE_MSG)\n"
          ],
          "name": "stderr"
        },
        {
          "output_type": "stream",
          "text": [
            "Mean:  0.8872282696469524\n",
            "st:  0.01951381528173351\n"
          ],
          "name": "stdout"
        },
        {
          "output_type": "stream",
          "text": [
            "/usr/local/lib/python3.6/dist-packages/sklearn/linear_model/_logistic.py:940: ConvergenceWarning: lbfgs failed to converge (status=1):\n",
            "STOP: TOTAL NO. of ITERATIONS REACHED LIMIT.\n",
            "\n",
            "Increase the number of iterations (max_iter) or scale the data as shown in:\n",
            "    https://scikit-learn.org/stable/modules/preprocessing.html\n",
            "Please also refer to the documentation for alternative solver options:\n",
            "    https://scikit-learn.org/stable/modules/linear_model.html#logistic-regression\n",
            "  extra_warning_msg=_LOGISTIC_SOLVER_CONVERGENCE_MSG)\n"
          ],
          "name": "stderr"
        }
      ]
    },
    {
      "cell_type": "code",
      "metadata": {
        "id": "5i3E6lRl2fha"
      },
      "source": [
        "# save the model to disk\r\n",
        "import pickle\r\n",
        "filename = 'lr_model.pkl'\r\n",
        "pickle.dump(lr_clf, open(filename, 'wb'))"
      ],
      "execution_count": null,
      "outputs": []
    },
    {
      "cell_type": "markdown",
      "metadata": {
        "id": "pTds6fwEuyhP"
      },
      "source": [
        "##Support Vector Machine"
      ]
    },
    {
      "cell_type": "code",
      "metadata": {
        "id": "d5WG_t4hvBgu",
        "colab": {
          "base_uri": "https://localhost:8080/"
        },
        "outputId": "e79c41ce-87a2-4341-922b-23100eae4fa8"
      },
      "source": [
        "from sklearn import svm\r\n",
        "\r\n",
        "svm_clf = svm.SVC()\r\n",
        "svm_clf.fit(train_features, train_labels)"
      ],
      "execution_count": null,
      "outputs": [
        {
          "output_type": "execute_result",
          "data": {
            "text/plain": [
              "SVC(C=1.0, break_ties=False, cache_size=200, class_weight=None, coef0=0.0,\n",
              "    decision_function_shape='ovr', degree=3, gamma='scale', kernel='rbf',\n",
              "    max_iter=-1, probability=False, random_state=None, shrinking=True,\n",
              "    tol=0.001, verbose=False)"
            ]
          },
          "metadata": {
            "tags": []
          },
          "execution_count": 20
        }
      ]
    },
    {
      "cell_type": "code",
      "metadata": {
        "colab": {
          "base_uri": "https://localhost:8080/"
        },
        "id": "sMXV5c4ywxQw",
        "outputId": "9a897a97-f607-41d6-a53a-286256cdb888"
      },
      "source": [
        "svm_clf.score(test_features, test_labels)"
      ],
      "execution_count": null,
      "outputs": [
        {
          "output_type": "execute_result",
          "data": {
            "text/plain": [
              "0.9236947791164659"
            ]
          },
          "metadata": {
            "tags": []
          },
          "execution_count": 21
        }
      ]
    },
    {
      "cell_type": "code",
      "metadata": {
        "colab": {
          "base_uri": "https://localhost:8080/"
        },
        "id": "3Et0ZKofDsmN",
        "outputId": "d87d6418-aaa5-4e39-a150-6242f9dfbb29"
      },
      "source": [
        "scores = cross_val_score(svm_clf, features, labels, cv=5)\r\n",
        "scores"
      ],
      "execution_count": null,
      "outputs": [
        {
          "output_type": "execute_result",
          "data": {
            "text/plain": [
              "array([0.90227577, 0.89558233, 0.89022758, 0.92225201, 0.88739946])"
            ]
          },
          "metadata": {
            "tags": []
          },
          "execution_count": 22
        }
      ]
    },
    {
      "cell_type": "code",
      "metadata": {
        "colab": {
          "base_uri": "https://localhost:8080/"
        },
        "id": "0pkeH69qD6iE",
        "outputId": "453707e9-35af-4ab2-d8dd-f3ff12a90c24"
      },
      "source": [
        "mean, std = np.mean(scores), np.std(scores)\r\n",
        "print(\"Mean: \", mean)\r\n",
        "print(\"st: \", std)"
      ],
      "execution_count": null,
      "outputs": [
        {
          "output_type": "stream",
          "text": [
            "Mean:  0.899547430113663\n",
            "st:  0.012434601642842286\n"
          ],
          "name": "stdout"
        }
      ]
    },
    {
      "cell_type": "code",
      "metadata": {
        "id": "dF7ftnIf2_CU"
      },
      "source": [
        "filename = 'svm_model.pkl'\r\n",
        "pickle.dump(svm_clf, open(filename, 'wb'))"
      ],
      "execution_count": null,
      "outputs": []
    },
    {
      "cell_type": "markdown",
      "metadata": {
        "id": "8B9FHi80yAPZ"
      },
      "source": [
        "##Random Forest"
      ]
    },
    {
      "cell_type": "code",
      "metadata": {
        "colab": {
          "base_uri": "https://localhost:8080/"
        },
        "id": "CheNsG9fyDmA",
        "outputId": "5c02aad4-4290-48d0-9b1a-d3030c60aff6"
      },
      "source": [
        "from sklearn.ensemble import RandomForestClassifier\r\n",
        "\r\n",
        "rf_clf = RandomForestClassifier(max_depth=2, random_state=0)\r\n",
        "rf_clf.fit(train_features, train_labels)"
      ],
      "execution_count": null,
      "outputs": [
        {
          "output_type": "execute_result",
          "data": {
            "text/plain": [
              "RandomForestClassifier(bootstrap=True, ccp_alpha=0.0, class_weight=None,\n",
              "                       criterion='gini', max_depth=2, max_features='auto',\n",
              "                       max_leaf_nodes=None, max_samples=None,\n",
              "                       min_impurity_decrease=0.0, min_impurity_split=None,\n",
              "                       min_samples_leaf=1, min_samples_split=2,\n",
              "                       min_weight_fraction_leaf=0.0, n_estimators=100,\n",
              "                       n_jobs=None, oob_score=False, random_state=0, verbose=0,\n",
              "                       warm_start=False)"
            ]
          },
          "metadata": {
            "tags": []
          },
          "execution_count": 24
        }
      ]
    },
    {
      "cell_type": "code",
      "metadata": {
        "colab": {
          "base_uri": "https://localhost:8080/"
        },
        "id": "CluMIvPKyrxZ",
        "outputId": "abb6114f-4922-49c6-d122-a385c41a2384"
      },
      "source": [
        "rf_clf.score(test_features, test_labels)"
      ],
      "execution_count": null,
      "outputs": [
        {
          "output_type": "execute_result",
          "data": {
            "text/plain": [
              "0.8058902275769746"
            ]
          },
          "metadata": {
            "tags": []
          },
          "execution_count": 25
        }
      ]
    },
    {
      "cell_type": "code",
      "metadata": {
        "colab": {
          "base_uri": "https://localhost:8080/"
        },
        "id": "lYZRP-eSEMsE",
        "outputId": "6d49657f-64ad-4a3b-d160-4e6b07e87bf2"
      },
      "source": [
        "scores = cross_val_score(rf_clf, features, labels, cv=5)\r\n",
        "mean, std = np.mean(scores), np.std(scores)\r\n",
        "print(\"Mean: \", mean)\r\n",
        "print(\"st: \", std)"
      ],
      "execution_count": null,
      "outputs": [
        {
          "output_type": "stream",
          "text": [
            "Mean:  0.7980178084994132\n",
            "st:  0.00046685116386778035\n"
          ],
          "name": "stdout"
        }
      ]
    },
    {
      "cell_type": "code",
      "metadata": {
        "id": "1tCPc6Df3X3v"
      },
      "source": [
        "filename = 'rf_model.pkl'\r\n",
        "pickle.dump(rf_clf, open(filename, 'wb'))"
      ],
      "execution_count": null,
      "outputs": []
    },
    {
      "cell_type": "markdown",
      "metadata": {
        "id": "KJOuuR9qLE6S"
      },
      "source": [
        "##LSTM"
      ]
    },
    {
      "cell_type": "code",
      "metadata": {
        "id": "mo_zhZqgMQY4"
      },
      "source": [
        "from keras.preprocessing.text import Tokenizer\r\n",
        "from keras.preprocessing.sequence import pad_sequences\r\n",
        "from keras.utils import to_categorical\r\n",
        "from keras.layers import Dense, Input, GlobalMaxPooling1D, LSTM\r\n",
        "from keras.layers import Conv1D, MaxPooling1D, Embedding, Dropout, Activation, Flatten\r\n",
        "from keras.models import Model\r\n",
        "from keras.initializers import Constant\r\n",
        "from keras.models import Sequential\r\n",
        "from sklearn.model_selection import train_test_split\r\n",
        "from sklearn.metrics import classification_report,confusion_matrix,accuracy_score"
      ],
      "execution_count": null,
      "outputs": []
    },
    {
      "cell_type": "code",
      "metadata": {
        "id": "y5Nctjq8LIyW"
      },
      "source": [
        "MAX_SEQUENCE_LENGTH = 500\r\n",
        "MAX_NUM_WORDS = 10000\r\n",
        "EMBEDDING_DIM = 300\r\n",
        "VALIDATION_SPLIT = 0.2\r\n",
        "\r\n",
        "\r\n",
        "x_train,x_test,y_train,y_test = train_test_split(dataset.Comment,dataset.Label,random_state = 42, test_size=VALIDATION_SPLIT, shuffle=True)"
      ],
      "execution_count": null,
      "outputs": []
    },
    {
      "cell_type": "code",
      "metadata": {
        "colab": {
          "base_uri": "https://localhost:8080/"
        },
        "id": "7repeX6KL-M5",
        "outputId": "decfcf28-9f51-4513-aaef-49b5c9903aa6"
      },
      "source": [
        "tokenizer = Tokenizer(num_words=MAX_NUM_WORDS)\r\n",
        "\r\n",
        "tokenizer.fit_on_texts(x_train)\r\n",
        "\r\n",
        "# Transforms each text in texts to a sequence of integers. \r\n",
        "# So it basically takes each word in the text and replaces it with its corresponding integer value from the word_index dictionary.\r\n",
        "# sequences = tokenizer.texts_to_sequences(news_data_df.text)\r\n",
        "tokenized_train = tokenizer.texts_to_sequences(x_train)\r\n",
        "X_train = pad_sequences(tokenized_train, maxlen=MAX_SEQUENCE_LENGTH)\r\n",
        "\r\n",
        "word_index = tokenizer.word_index\r\n",
        "print('Found {} unique tokens. and {} lines '.format(len(word_index), len(X_train)))"
      ],
      "execution_count": null,
      "outputs": [
        {
          "output_type": "stream",
          "text": [
            "Found 15995 unique tokens. and 2986 lines \n"
          ],
          "name": "stdout"
        }
      ]
    },
    {
      "cell_type": "code",
      "metadata": {
        "colab": {
          "base_uri": "https://localhost:8080/"
        },
        "id": "xr1eLoqRMVc4",
        "outputId": "d9b741ab-8dbf-44d7-9613-cce58055adca"
      },
      "source": [
        "!wget -P /root/input/ -c \"https://s3.amazonaws.com/dl4j-distribution/GoogleNews-vectors-negative300.bin.gz\""
      ],
      "execution_count": null,
      "outputs": [
        {
          "output_type": "stream",
          "text": [
            "--2021-02-01 16:46:09--  https://s3.amazonaws.com/dl4j-distribution/GoogleNews-vectors-negative300.bin.gz\n",
            "Resolving s3.amazonaws.com (s3.amazonaws.com)... 52.216.186.253\n",
            "Connecting to s3.amazonaws.com (s3.amazonaws.com)|52.216.186.253|:443... connected.\n",
            "HTTP request sent, awaiting response... 200 OK\n",
            "Length: 1647046227 (1.5G) [application/x-gzip]\n",
            "Saving to: ‘/root/input/GoogleNews-vectors-negative300.bin.gz’\n",
            "\n",
            "GoogleNews-vectors- 100%[===================>]   1.53G  66.0MB/s    in 25s     \n",
            "\n",
            "2021-02-01 16:46:33 (63.7 MB/s) - ‘/root/input/GoogleNews-vectors-negative300.bin.gz’ saved [1647046227/1647046227]\n",
            "\n"
          ],
          "name": "stdout"
        }
      ]
    },
    {
      "cell_type": "code",
      "metadata": {
        "id": "aLDy-3BQMob2",
        "colab": {
          "base_uri": "https://localhost:8080/"
        },
        "outputId": "68223530-5249-4f30-b9ff-be1931096d96"
      },
      "source": [
        "from gensim.models.keyedvectors import KeyedVectors\r\n",
        "\r\n",
        "tokenized_test = tokenizer.texts_to_sequences(x_test)\r\n",
        "X_test = pad_sequences(tokenized_test, maxlen=MAX_SEQUENCE_LENGTH)\r\n",
        "\r\n",
        "def get_embeddings(path):\r\n",
        "  # model = gensim.models.KeyedVectors.load_word2vec_format('GoogleNews-vectors-negative300', binary=True, limit=500000)\r\n",
        "  wv_from_bin = KeyedVectors.load_word2vec_format(path, binary=True, limit=500000) \r\n",
        "  #extracting word vectors from google news vector\r\n",
        "  embeddings_index = {}\r\n",
        "  for word, vector in zip(wv_from_bin.vocab, wv_from_bin.vectors):\r\n",
        "      coefs = np.asarray(vector, dtype='float32')\r\n",
        "      embeddings_index[word] = coefs\r\n",
        "\r\n",
        "  return embeddings_index\r\n",
        "\r\n",
        "embeddings_index = {}\r\n",
        "embeddings_index = get_embeddings('/root/input/GoogleNews-vectors-negative300.bin.gz')\r\n",
        "print('Found %s word vectors.' % len(embeddings_index))"
      ],
      "execution_count": null,
      "outputs": [
        {
          "output_type": "stream",
          "text": [
            "Found 500000 word vectors.\n"
          ],
          "name": "stdout"
        }
      ]
    },
    {
      "cell_type": "code",
      "metadata": {
        "id": "0Ea_hqghM54C"
      },
      "source": [
        "vocab_size = len(tokenizer.word_index) + 1\r\n",
        "\r\n",
        "embedding_matrix = np.zeros((vocab_size, EMBEDDING_DIM))\r\n",
        "for word, i in word_index.items():\r\n",
        "    try:\r\n",
        "        embedding_vector = embeddings_index[word]\r\n",
        "        embedding_matrix[i] = embedding_vector\r\n",
        "    except KeyError:\r\n",
        "        embedding_matrix[i]=np.random.normal(0,np.sqrt(0.25),EMBEDDING_DIM)"
      ],
      "execution_count": null,
      "outputs": []
    },
    {
      "cell_type": "code",
      "metadata": {
        "id": "MrZboAUUNRAM"
      },
      "source": [
        "def lstm_net1():\r\n",
        "    model = Sequential()\r\n",
        "\r\n",
        "    #Non-trainable embeddidng layer\r\n",
        "    model.add(Embedding(vocab_size, output_dim=EMBEDDING_DIM, weights=[embedding_matrix], input_length=MAX_SEQUENCE_LENGTH, trainable=False))\r\n",
        "    \r\n",
        "    model.add(LSTM(units=128 , return_sequences = True))\r\n",
        "    model.add(Dropout(0.2))\r\n",
        "    model.add(LSTM(units=64))\r\n",
        "    model.add(Dropout(0.1))\r\n",
        "    model.add(Dense(units = 32 , activation = 'relu'))\r\n",
        "    model.add(Dense(1, activation='sigmoid'))\r\n",
        "    model.compile(optimizer='adam', loss='binary_crossentropy', metrics=['accuracy'])\r\n",
        "    \r\n",
        "    return model"
      ],
      "execution_count": null,
      "outputs": []
    },
    {
      "cell_type": "code",
      "metadata": {
        "colab": {
          "base_uri": "https://localhost:8080/"
        },
        "id": "ZhT_deGGNTfX",
        "outputId": "618c5921-5a94-48d6-bbc0-762d985bba51"
      },
      "source": [
        "#training an LSTM network\r\n",
        "model2 = lstm_net1()\r\n",
        "\r\n",
        "batch_size = 256\r\n",
        "epochs = 8\r\n",
        "\r\n",
        "model2.summary()"
      ],
      "execution_count": null,
      "outputs": [
        {
          "output_type": "stream",
          "text": [
            "Model: \"sequential\"\n",
            "_________________________________________________________________\n",
            "Layer (type)                 Output Shape              Param #   \n",
            "=================================================================\n",
            "embedding (Embedding)        (None, 500, 300)          4798800   \n",
            "_________________________________________________________________\n",
            "lstm (LSTM)                  (None, 500, 128)          219648    \n",
            "_________________________________________________________________\n",
            "dropout (Dropout)            (None, 500, 128)          0         \n",
            "_________________________________________________________________\n",
            "lstm_1 (LSTM)                (None, 64)                49408     \n",
            "_________________________________________________________________\n",
            "dropout_1 (Dropout)          (None, 64)                0         \n",
            "_________________________________________________________________\n",
            "dense (Dense)                (None, 32)                2080      \n",
            "_________________________________________________________________\n",
            "dense_1 (Dense)              (None, 1)                 33        \n",
            "=================================================================\n",
            "Total params: 5,069,969\n",
            "Trainable params: 271,169\n",
            "Non-trainable params: 4,798,800\n",
            "_________________________________________________________________\n"
          ],
          "name": "stdout"
        }
      ]
    },
    {
      "cell_type": "code",
      "metadata": {
        "colab": {
          "base_uri": "https://localhost:8080/"
        },
        "id": "DoZcHJF1NcQK",
        "outputId": "e4f82533-84ae-4d4f-f843-1e3fc358eaaa"
      },
      "source": [
        "history = model2.fit(X_train, y_train, batch_size = batch_size , validation_data = (X_test,y_test) , epochs = epochs)"
      ],
      "execution_count": null,
      "outputs": [
        {
          "output_type": "stream",
          "text": [
            "Epoch 1/8\n",
            "12/12 [==============================] - 11s 213ms/step - loss: 0.5917 - accuracy: 0.7476 - val_loss: 0.4575 - val_accuracy: 0.8112\n",
            "Epoch 2/8\n",
            "12/12 [==============================] - 2s 155ms/step - loss: 0.4487 - accuracy: 0.8071 - val_loss: 0.3398 - val_accuracy: 0.8862\n",
            "Epoch 3/8\n",
            "12/12 [==============================] - 2s 156ms/step - loss: 0.3202 - accuracy: 0.8771 - val_loss: 0.2316 - val_accuracy: 0.9143\n",
            "Epoch 4/8\n",
            "12/12 [==============================] - 2s 156ms/step - loss: 0.2286 - accuracy: 0.9235 - val_loss: 0.2009 - val_accuracy: 0.9304\n",
            "Epoch 5/8\n",
            "12/12 [==============================] - 2s 157ms/step - loss: 0.1997 - accuracy: 0.9374 - val_loss: 0.1662 - val_accuracy: 0.9384\n",
            "Epoch 6/8\n",
            "12/12 [==============================] - 2s 156ms/step - loss: 0.1880 - accuracy: 0.9374 - val_loss: 0.1823 - val_accuracy: 0.9357\n",
            "Epoch 7/8\n",
            "12/12 [==============================] - 2s 156ms/step - loss: 0.1845 - accuracy: 0.9455 - val_loss: 0.1771 - val_accuracy: 0.9250\n",
            "Epoch 8/8\n",
            "12/12 [==============================] - 2s 156ms/step - loss: 0.1600 - accuracy: 0.9430 - val_loss: 0.1459 - val_accuracy: 0.9317\n"
          ],
          "name": "stdout"
        }
      ]
    },
    {
      "cell_type": "code",
      "metadata": {
        "colab": {
          "base_uri": "https://localhost:8080/"
        },
        "id": "NknXIwmqNklk",
        "outputId": "271cc38f-24c4-4961-8755-1345359a332c"
      },
      "source": [
        "scores = model2.evaluate(X_test, y_test, verbose=0)\r\n",
        "print(scores)"
      ],
      "execution_count": null,
      "outputs": [
        {
          "output_type": "stream",
          "text": [
            "[0.14585021138191223, 0.9317269325256348]\n"
          ],
          "name": "stdout"
        }
      ]
    },
    {
      "cell_type": "code",
      "metadata": {
        "colab": {
          "base_uri": "https://localhost:8080/"
        },
        "id": "WuNiNoE9fsOe",
        "outputId": "a480c1eb-8700-47ef-a1e6-c79b0afb0401"
      },
      "source": [
        "pred = model2.predict_classes(X_test)\r\n",
        "\r\n",
        "from sklearn.metrics import roc_auc_score, f1_score, accuracy_score\r\n",
        "\r\n",
        "F1_score = f1_score(y_test, pred, average='binary')\r\n",
        "print(\"F1 score is\", F1_score)\r\n",
        "\r\n",
        "accuracy_score = accuracy_score(y_test, pred)\r\n",
        "print(\"Acuracy is \", accuracy_score)\r\n",
        "\r\n",
        "pred_proba = model2.predict(X_test)\r\n",
        "auc_score = roc_auc_score(y_test, pred_proba)\r\n",
        "print(\"AUC score is \", auc_score)"
      ],
      "execution_count": null,
      "outputs": [
        {
          "output_type": "stream",
          "text": [
            "/usr/local/lib/python3.6/dist-packages/tensorflow/python/keras/engine/sequential.py:450: UserWarning: `model.predict_classes()` is deprecated and will be removed after 2021-01-01. Please use instead:* `np.argmax(model.predict(x), axis=-1)`,   if your model does multi-class classification   (e.g. if it uses a `softmax` last-layer activation).* `(model.predict(x) > 0.5).astype(\"int32\")`,   if your model does binary classification   (e.g. if it uses a `sigmoid` last-layer activation).\n",
            "  warnings.warn('`model.predict_classes()` is deprecated and '\n"
          ],
          "name": "stderr"
        },
        {
          "output_type": "stream",
          "text": [
            "F1 score is 0.8411214953271028\n",
            "Acuracy is  0.9317269076305221\n",
            "AUC score is  0.9816542288557213\n"
          ],
          "name": "stdout"
        }
      ]
    },
    {
      "cell_type": "markdown",
      "metadata": {
        "id": "MWdwDNKdNtOJ"
      },
      "source": [
        "##CNN"
      ]
    },
    {
      "cell_type": "code",
      "metadata": {
        "id": "uIPvqehkNoV6"
      },
      "source": [
        "def cnn_net1():\r\n",
        "  model = Sequential()\r\n",
        "\r\n",
        "  #Non-trainable embeddidng layer\r\n",
        "  model.add(Embedding(vocab_size, output_dim=EMBEDDING_DIM, weights=[embedding_matrix], input_length=MAX_SEQUENCE_LENGTH, trainable=False))\r\n",
        "  \r\n",
        "  model.add(Dropout(0.2))\r\n",
        "  model.add(Conv1D(filters=128, kernel_size=4, activation='relu'))\r\n",
        "  model.add(GlobalMaxPooling1D())\r\n",
        "  model.add(Dropout(0.2))\r\n",
        "  model.add(Dense(units = 250 , activation = 'relu'))\r\n",
        "  model.add(Dense(1, activation='sigmoid'))\r\n",
        "  model.compile(optimizer='adam', loss='binary_crossentropy', metrics=['accuracy'])\r\n",
        "  \r\n",
        "  return model\r\n",
        "\r\n",
        "\r\n",
        "def get_pred_output(text_to_check):\r\n",
        "  sequences = tokenizer.texts_to_sequences([text_to_check])\r\n",
        "  data = pad_sequences(sequences, maxlen=MAX_SEQUENCE_LENGTH)\r\n",
        "  predicted_val = model.predict_classes(data)\r\n",
        "#     predicted_val = model.predict(data)    \r\n",
        "#     if predicted_val.max() > 0.7:\r\n",
        "#         output = 1\r\n",
        "#     else:\r\n",
        "#         output = 0\r\n",
        "  return predicted_val"
      ],
      "execution_count": null,
      "outputs": []
    },
    {
      "cell_type": "code",
      "metadata": {
        "colab": {
          "base_uri": "https://localhost:8080/"
        },
        "id": "WlaIo_jSN8Fe",
        "outputId": "4fdd927a-a333-404f-dde7-abcef9441346"
      },
      "source": [
        "# train a 1D convnet with global maxpooling\r\n",
        "model_1 = cnn_net1()\r\n",
        "\r\n",
        "batch_size = 256\r\n",
        "epochs = 8\r\n",
        "\r\n",
        "model_1.summary()"
      ],
      "execution_count": null,
      "outputs": [
        {
          "output_type": "stream",
          "text": [
            "Model: \"sequential_6\"\n",
            "_________________________________________________________________\n",
            "Layer (type)                 Output Shape              Param #   \n",
            "=================================================================\n",
            "embedding_6 (Embedding)      (None, 500, 300)          4798800   \n",
            "_________________________________________________________________\n",
            "dropout_12 (Dropout)         (None, 500, 300)          0         \n",
            "_________________________________________________________________\n",
            "conv1d_2 (Conv1D)            (None, 497, 128)          153728    \n",
            "_________________________________________________________________\n",
            "global_max_pooling1d_2 (Glob (None, 128)               0         \n",
            "_________________________________________________________________\n",
            "dropout_13 (Dropout)         (None, 128)               0         \n",
            "_________________________________________________________________\n",
            "dense_12 (Dense)             (None, 250)               32250     \n",
            "_________________________________________________________________\n",
            "dense_13 (Dense)             (None, 1)                 251       \n",
            "=================================================================\n",
            "Total params: 4,985,029\n",
            "Trainable params: 186,229\n",
            "Non-trainable params: 4,798,800\n",
            "_________________________________________________________________\n"
          ],
          "name": "stdout"
        }
      ]
    },
    {
      "cell_type": "code",
      "metadata": {
        "id": "C05_iJYIOBLk",
        "colab": {
          "base_uri": "https://localhost:8080/"
        },
        "outputId": "0aac627a-6b4b-42e5-b3b3-a87263cdc8a5"
      },
      "source": [
        "history = model_1.fit(X_train, y_train, batch_size = batch_size , validation_data = (X_test,y_test) , epochs = epochs)"
      ],
      "execution_count": null,
      "outputs": [
        {
          "output_type": "stream",
          "text": [
            "Epoch 1/8\n",
            "12/12 [==============================] - 2s 101ms/step - loss: 0.5887 - accuracy: 0.7136 - val_loss: 0.4589 - val_accuracy: 0.8474\n",
            "Epoch 2/8\n",
            "12/12 [==============================] - 1s 86ms/step - loss: 0.4124 - accuracy: 0.8489 - val_loss: 0.2633 - val_accuracy: 0.9197\n",
            "Epoch 3/8\n",
            "12/12 [==============================] - 1s 87ms/step - loss: 0.2410 - accuracy: 0.9238 - val_loss: 0.1655 - val_accuracy: 0.9424\n",
            "Epoch 4/8\n",
            "12/12 [==============================] - 1s 87ms/step - loss: 0.1550 - accuracy: 0.9470 - val_loss: 0.1366 - val_accuracy: 0.9518\n",
            "Epoch 5/8\n",
            "12/12 [==============================] - 1s 87ms/step - loss: 0.1222 - accuracy: 0.9577 - val_loss: 0.1231 - val_accuracy: 0.9558\n",
            "Epoch 6/8\n",
            "12/12 [==============================] - 1s 86ms/step - loss: 0.1090 - accuracy: 0.9579 - val_loss: 0.1193 - val_accuracy: 0.9585\n",
            "Epoch 7/8\n",
            "12/12 [==============================] - 1s 86ms/step - loss: 0.0941 - accuracy: 0.9678 - val_loss: 0.1129 - val_accuracy: 0.9625\n",
            "Epoch 8/8\n",
            "12/12 [==============================] - 1s 86ms/step - loss: 0.0742 - accuracy: 0.9746 - val_loss: 0.1289 - val_accuracy: 0.9505\n"
          ],
          "name": "stdout"
        }
      ]
    },
    {
      "cell_type": "code",
      "metadata": {
        "colab": {
          "base_uri": "https://localhost:8080/"
        },
        "id": "eKvvMFhXPFwS",
        "outputId": "71d34648-440e-4f27-89fc-aaf1bddf4bbc"
      },
      "source": [
        "scores = model_1.evaluate(X_test, y_test, verbose=0)\r\n",
        "print(scores)"
      ],
      "execution_count": null,
      "outputs": [
        {
          "output_type": "stream",
          "text": [
            "[0.1288660168647766, 0.9504685401916504]\n"
          ],
          "name": "stdout"
        }
      ]
    },
    {
      "cell_type": "code",
      "metadata": {
        "colab": {
          "base_uri": "https://localhost:8080/"
        },
        "id": "aa9hkIR0SYxI",
        "outputId": "876956bb-4b63-4e3c-a900-08b439e04317"
      },
      "source": [
        "model_1.predict_classes(X_test)"
      ],
      "execution_count": null,
      "outputs": [
        {
          "output_type": "stream",
          "text": [
            "/usr/local/lib/python3.6/dist-packages/tensorflow/python/keras/engine/sequential.py:450: UserWarning: `model.predict_classes()` is deprecated and will be removed after 2021-01-01. Please use instead:* `np.argmax(model.predict(x), axis=-1)`,   if your model does multi-class classification   (e.g. if it uses a `softmax` last-layer activation).* `(model.predict(x) > 0.5).astype(\"int32\")`,   if your model does binary classification   (e.g. if it uses a `sigmoid` last-layer activation).\n",
            "  warnings.warn('`model.predict_classes()` is deprecated and '\n"
          ],
          "name": "stderr"
        },
        {
          "output_type": "execute_result",
          "data": {
            "text/plain": [
              "array([[0],\n",
              "       [1],\n",
              "       [0],\n",
              "       [0],\n",
              "       [0],\n",
              "       [0],\n",
              "       [0],\n",
              "       [1],\n",
              "       [0],\n",
              "       [0],\n",
              "       [1],\n",
              "       [1],\n",
              "       [0],\n",
              "       [1],\n",
              "       [1],\n",
              "       [0],\n",
              "       [1],\n",
              "       [1],\n",
              "       [0],\n",
              "       [0],\n",
              "       [0],\n",
              "       [0],\n",
              "       [0],\n",
              "       [0],\n",
              "       [1],\n",
              "       [0],\n",
              "       [0],\n",
              "       [1],\n",
              "       [0],\n",
              "       [0],\n",
              "       [0],\n",
              "       [0],\n",
              "       [0],\n",
              "       [0],\n",
              "       [0],\n",
              "       [0],\n",
              "       [1],\n",
              "       [0],\n",
              "       [0],\n",
              "       [0],\n",
              "       [0],\n",
              "       [0],\n",
              "       [1],\n",
              "       [0],\n",
              "       [1],\n",
              "       [0],\n",
              "       [0],\n",
              "       [0],\n",
              "       [0],\n",
              "       [0],\n",
              "       [0],\n",
              "       [0],\n",
              "       [1],\n",
              "       [1],\n",
              "       [0],\n",
              "       [0],\n",
              "       [0],\n",
              "       [0],\n",
              "       [0],\n",
              "       [0],\n",
              "       [0],\n",
              "       [0],\n",
              "       [0],\n",
              "       [0],\n",
              "       [0],\n",
              "       [0],\n",
              "       [0],\n",
              "       [0],\n",
              "       [0],\n",
              "       [0],\n",
              "       [0],\n",
              "       [0],\n",
              "       [0],\n",
              "       [0],\n",
              "       [0],\n",
              "       [0],\n",
              "       [0],\n",
              "       [1],\n",
              "       [0],\n",
              "       [1],\n",
              "       [0],\n",
              "       [0],\n",
              "       [0],\n",
              "       [0],\n",
              "       [0],\n",
              "       [0],\n",
              "       [1],\n",
              "       [0],\n",
              "       [0],\n",
              "       [0],\n",
              "       [0],\n",
              "       [0],\n",
              "       [0],\n",
              "       [0],\n",
              "       [0],\n",
              "       [1],\n",
              "       [0],\n",
              "       [0],\n",
              "       [0],\n",
              "       [0],\n",
              "       [1],\n",
              "       [1],\n",
              "       [1],\n",
              "       [0],\n",
              "       [0],\n",
              "       [0],\n",
              "       [0],\n",
              "       [0],\n",
              "       [0],\n",
              "       [1],\n",
              "       [1],\n",
              "       [0],\n",
              "       [0],\n",
              "       [0],\n",
              "       [0],\n",
              "       [0],\n",
              "       [0],\n",
              "       [0],\n",
              "       [0],\n",
              "       [0],\n",
              "       [0],\n",
              "       [0],\n",
              "       [0],\n",
              "       [0],\n",
              "       [0],\n",
              "       [1],\n",
              "       [0],\n",
              "       [0],\n",
              "       [0],\n",
              "       [1],\n",
              "       [0],\n",
              "       [0],\n",
              "       [1],\n",
              "       [1],\n",
              "       [0],\n",
              "       [0],\n",
              "       [0],\n",
              "       [0],\n",
              "       [0],\n",
              "       [0],\n",
              "       [1],\n",
              "       [0],\n",
              "       [0],\n",
              "       [0],\n",
              "       [0],\n",
              "       [0],\n",
              "       [0],\n",
              "       [0],\n",
              "       [0],\n",
              "       [0],\n",
              "       [0],\n",
              "       [0],\n",
              "       [1],\n",
              "       [0],\n",
              "       [0],\n",
              "       [0],\n",
              "       [0],\n",
              "       [1],\n",
              "       [0],\n",
              "       [0],\n",
              "       [0],\n",
              "       [0],\n",
              "       [0],\n",
              "       [1],\n",
              "       [0],\n",
              "       [0],\n",
              "       [0],\n",
              "       [0],\n",
              "       [0],\n",
              "       [0],\n",
              "       [0],\n",
              "       [0],\n",
              "       [0],\n",
              "       [0],\n",
              "       [0],\n",
              "       [0],\n",
              "       [1],\n",
              "       [0],\n",
              "       [0],\n",
              "       [1],\n",
              "       [0],\n",
              "       [0],\n",
              "       [0],\n",
              "       [0],\n",
              "       [0],\n",
              "       [0],\n",
              "       [0],\n",
              "       [0],\n",
              "       [0],\n",
              "       [0],\n",
              "       [1],\n",
              "       [0],\n",
              "       [0],\n",
              "       [1],\n",
              "       [0],\n",
              "       [0],\n",
              "       [0],\n",
              "       [0],\n",
              "       [0],\n",
              "       [0],\n",
              "       [1],\n",
              "       [1],\n",
              "       [0],\n",
              "       [0],\n",
              "       [0],\n",
              "       [0],\n",
              "       [0],\n",
              "       [0],\n",
              "       [1],\n",
              "       [0],\n",
              "       [0],\n",
              "       [0],\n",
              "       [0],\n",
              "       [0],\n",
              "       [0],\n",
              "       [0],\n",
              "       [0],\n",
              "       [0],\n",
              "       [0],\n",
              "       [0],\n",
              "       [0],\n",
              "       [1],\n",
              "       [0],\n",
              "       [0],\n",
              "       [0],\n",
              "       [1],\n",
              "       [1],\n",
              "       [0],\n",
              "       [0],\n",
              "       [1],\n",
              "       [0],\n",
              "       [1],\n",
              "       [0],\n",
              "       [0],\n",
              "       [0],\n",
              "       [0],\n",
              "       [0],\n",
              "       [0],\n",
              "       [1],\n",
              "       [0],\n",
              "       [0],\n",
              "       [0],\n",
              "       [1],\n",
              "       [0],\n",
              "       [1],\n",
              "       [0],\n",
              "       [0],\n",
              "       [0],\n",
              "       [1],\n",
              "       [0],\n",
              "       [1],\n",
              "       [0],\n",
              "       [0],\n",
              "       [0],\n",
              "       [0],\n",
              "       [0],\n",
              "       [0],\n",
              "       [0],\n",
              "       [0],\n",
              "       [0],\n",
              "       [0],\n",
              "       [0],\n",
              "       [0],\n",
              "       [0],\n",
              "       [0],\n",
              "       [0],\n",
              "       [0],\n",
              "       [0],\n",
              "       [0],\n",
              "       [1],\n",
              "       [0],\n",
              "       [0],\n",
              "       [0],\n",
              "       [0],\n",
              "       [0],\n",
              "       [1],\n",
              "       [0],\n",
              "       [1],\n",
              "       [0],\n",
              "       [1],\n",
              "       [0],\n",
              "       [1],\n",
              "       [0],\n",
              "       [0],\n",
              "       [0],\n",
              "       [0],\n",
              "       [0],\n",
              "       [0],\n",
              "       [0],\n",
              "       [0],\n",
              "       [0],\n",
              "       [0],\n",
              "       [1],\n",
              "       [1],\n",
              "       [0],\n",
              "       [0],\n",
              "       [0],\n",
              "       [0],\n",
              "       [1],\n",
              "       [0],\n",
              "       [0],\n",
              "       [1],\n",
              "       [0],\n",
              "       [0],\n",
              "       [0],\n",
              "       [0],\n",
              "       [0],\n",
              "       [1],\n",
              "       [0],\n",
              "       [1],\n",
              "       [1],\n",
              "       [1],\n",
              "       [0],\n",
              "       [0],\n",
              "       [0],\n",
              "       [0],\n",
              "       [0],\n",
              "       [0],\n",
              "       [0],\n",
              "       [0],\n",
              "       [1],\n",
              "       [1],\n",
              "       [0],\n",
              "       [0],\n",
              "       [0],\n",
              "       [1],\n",
              "       [0],\n",
              "       [0],\n",
              "       [1],\n",
              "       [0],\n",
              "       [0],\n",
              "       [0],\n",
              "       [1],\n",
              "       [0],\n",
              "       [0],\n",
              "       [0],\n",
              "       [0],\n",
              "       [0],\n",
              "       [0],\n",
              "       [0],\n",
              "       [0],\n",
              "       [1],\n",
              "       [0],\n",
              "       [1],\n",
              "       [0],\n",
              "       [0],\n",
              "       [0],\n",
              "       [0],\n",
              "       [0],\n",
              "       [0],\n",
              "       [0],\n",
              "       [0],\n",
              "       [0],\n",
              "       [0],\n",
              "       [1],\n",
              "       [0],\n",
              "       [0],\n",
              "       [0],\n",
              "       [0],\n",
              "       [1],\n",
              "       [0],\n",
              "       [0],\n",
              "       [0],\n",
              "       [0],\n",
              "       [0],\n",
              "       [1],\n",
              "       [0],\n",
              "       [0],\n",
              "       [0],\n",
              "       [0],\n",
              "       [0],\n",
              "       [0],\n",
              "       [0],\n",
              "       [0],\n",
              "       [0],\n",
              "       [0],\n",
              "       [0],\n",
              "       [1],\n",
              "       [1],\n",
              "       [0],\n",
              "       [0],\n",
              "       [0],\n",
              "       [0],\n",
              "       [0],\n",
              "       [0],\n",
              "       [0],\n",
              "       [0],\n",
              "       [0],\n",
              "       [0],\n",
              "       [0],\n",
              "       [0],\n",
              "       [0],\n",
              "       [0],\n",
              "       [0],\n",
              "       [0],\n",
              "       [0],\n",
              "       [0],\n",
              "       [0],\n",
              "       [1],\n",
              "       [0],\n",
              "       [0],\n",
              "       [0],\n",
              "       [0],\n",
              "       [1],\n",
              "       [0],\n",
              "       [1],\n",
              "       [0],\n",
              "       [0],\n",
              "       [1],\n",
              "       [0],\n",
              "       [0],\n",
              "       [1],\n",
              "       [0],\n",
              "       [0],\n",
              "       [1],\n",
              "       [0],\n",
              "       [0],\n",
              "       [0],\n",
              "       [0],\n",
              "       [0],\n",
              "       [0],\n",
              "       [0],\n",
              "       [0],\n",
              "       [0],\n",
              "       [0],\n",
              "       [1],\n",
              "       [0],\n",
              "       [0],\n",
              "       [0],\n",
              "       [1],\n",
              "       [1],\n",
              "       [0],\n",
              "       [0],\n",
              "       [1],\n",
              "       [1],\n",
              "       [0],\n",
              "       [0],\n",
              "       [0],\n",
              "       [0],\n",
              "       [0],\n",
              "       [1],\n",
              "       [0],\n",
              "       [0],\n",
              "       [0],\n",
              "       [1],\n",
              "       [0],\n",
              "       [1],\n",
              "       [0],\n",
              "       [0],\n",
              "       [0],\n",
              "       [0],\n",
              "       [0],\n",
              "       [0],\n",
              "       [0],\n",
              "       [0],\n",
              "       [1],\n",
              "       [0],\n",
              "       [0],\n",
              "       [0],\n",
              "       [0],\n",
              "       [1],\n",
              "       [0],\n",
              "       [0],\n",
              "       [0],\n",
              "       [0],\n",
              "       [0],\n",
              "       [0],\n",
              "       [1],\n",
              "       [0],\n",
              "       [0],\n",
              "       [0],\n",
              "       [1],\n",
              "       [1],\n",
              "       [0],\n",
              "       [0],\n",
              "       [0],\n",
              "       [1],\n",
              "       [0],\n",
              "       [0],\n",
              "       [1],\n",
              "       [0],\n",
              "       [0],\n",
              "       [0],\n",
              "       [0],\n",
              "       [0],\n",
              "       [0],\n",
              "       [0],\n",
              "       [0],\n",
              "       [0],\n",
              "       [0],\n",
              "       [0],\n",
              "       [0],\n",
              "       [0],\n",
              "       [0],\n",
              "       [1],\n",
              "       [0],\n",
              "       [0],\n",
              "       [0],\n",
              "       [0],\n",
              "       [0],\n",
              "       [0],\n",
              "       [0],\n",
              "       [0],\n",
              "       [0],\n",
              "       [1],\n",
              "       [0],\n",
              "       [0],\n",
              "       [1],\n",
              "       [0],\n",
              "       [0],\n",
              "       [1],\n",
              "       [1],\n",
              "       [0],\n",
              "       [0],\n",
              "       [0],\n",
              "       [0],\n",
              "       [0],\n",
              "       [0],\n",
              "       [0],\n",
              "       [0],\n",
              "       [0],\n",
              "       [0],\n",
              "       [0],\n",
              "       [0],\n",
              "       [0],\n",
              "       [0],\n",
              "       [0],\n",
              "       [0],\n",
              "       [0],\n",
              "       [0],\n",
              "       [0],\n",
              "       [0],\n",
              "       [0],\n",
              "       [0],\n",
              "       [1],\n",
              "       [0],\n",
              "       [0],\n",
              "       [0],\n",
              "       [0],\n",
              "       [0],\n",
              "       [1],\n",
              "       [0],\n",
              "       [1],\n",
              "       [0],\n",
              "       [0],\n",
              "       [1],\n",
              "       [0],\n",
              "       [0],\n",
              "       [0],\n",
              "       [0],\n",
              "       [0],\n",
              "       [0],\n",
              "       [1],\n",
              "       [1],\n",
              "       [0],\n",
              "       [0],\n",
              "       [1],\n",
              "       [0],\n",
              "       [0],\n",
              "       [1],\n",
              "       [1],\n",
              "       [0],\n",
              "       [0],\n",
              "       [0],\n",
              "       [0],\n",
              "       [0],\n",
              "       [0],\n",
              "       [0],\n",
              "       [0],\n",
              "       [0],\n",
              "       [0],\n",
              "       [1],\n",
              "       [1],\n",
              "       [0],\n",
              "       [1],\n",
              "       [0],\n",
              "       [0],\n",
              "       [0],\n",
              "       [0],\n",
              "       [0],\n",
              "       [0],\n",
              "       [0],\n",
              "       [1],\n",
              "       [0],\n",
              "       [0],\n",
              "       [0],\n",
              "       [0],\n",
              "       [1],\n",
              "       [0],\n",
              "       [0],\n",
              "       [0],\n",
              "       [0],\n",
              "       [0],\n",
              "       [1],\n",
              "       [1],\n",
              "       [0],\n",
              "       [0],\n",
              "       [0],\n",
              "       [0],\n",
              "       [1],\n",
              "       [0],\n",
              "       [0],\n",
              "       [0],\n",
              "       [0],\n",
              "       [1],\n",
              "       [1],\n",
              "       [0],\n",
              "       [0],\n",
              "       [0],\n",
              "       [0],\n",
              "       [1],\n",
              "       [1],\n",
              "       [0],\n",
              "       [0],\n",
              "       [0],\n",
              "       [0],\n",
              "       [0],\n",
              "       [0],\n",
              "       [0],\n",
              "       [0],\n",
              "       [0],\n",
              "       [0],\n",
              "       [0],\n",
              "       [0],\n",
              "       [0],\n",
              "       [0],\n",
              "       [0],\n",
              "       [0],\n",
              "       [1],\n",
              "       [0],\n",
              "       [0],\n",
              "       [0],\n",
              "       [0],\n",
              "       [0],\n",
              "       [0],\n",
              "       [0],\n",
              "       [0],\n",
              "       [0],\n",
              "       [0],\n",
              "       [0],\n",
              "       [0],\n",
              "       [0],\n",
              "       [1],\n",
              "       [0],\n",
              "       [1],\n",
              "       [1],\n",
              "       [1],\n",
              "       [1],\n",
              "       [1],\n",
              "       [0],\n",
              "       [0],\n",
              "       [0],\n",
              "       [0],\n",
              "       [0],\n",
              "       [0],\n",
              "       [0],\n",
              "       [0],\n",
              "       [0],\n",
              "       [0],\n",
              "       [0],\n",
              "       [0],\n",
              "       [0],\n",
              "       [1],\n",
              "       [0],\n",
              "       [1],\n",
              "       [0],\n",
              "       [0],\n",
              "       [0],\n",
              "       [0],\n",
              "       [0],\n",
              "       [0],\n",
              "       [0],\n",
              "       [0],\n",
              "       [0],\n",
              "       [1],\n",
              "       [1],\n",
              "       [1],\n",
              "       [0],\n",
              "       [0],\n",
              "       [0],\n",
              "       [0],\n",
              "       [0],\n",
              "       [1],\n",
              "       [0],\n",
              "       [0],\n",
              "       [0],\n",
              "       [0],\n",
              "       [1],\n",
              "       [0],\n",
              "       [0],\n",
              "       [0],\n",
              "       [0],\n",
              "       [1],\n",
              "       [1],\n",
              "       [1],\n",
              "       [0],\n",
              "       [0],\n",
              "       [0],\n",
              "       [0],\n",
              "       [0],\n",
              "       [0],\n",
              "       [0],\n",
              "       [1],\n",
              "       [0],\n",
              "       [0],\n",
              "       [0],\n",
              "       [1],\n",
              "       [0],\n",
              "       [1],\n",
              "       [0],\n",
              "       [0],\n",
              "       [0],\n",
              "       [0],\n",
              "       [0],\n",
              "       [0],\n",
              "       [1],\n",
              "       [0],\n",
              "       [1],\n",
              "       [1],\n",
              "       [0],\n",
              "       [0],\n",
              "       [0],\n",
              "       [0],\n",
              "       [0],\n",
              "       [0],\n",
              "       [1],\n",
              "       [0],\n",
              "       [0],\n",
              "       [0],\n",
              "       [1],\n",
              "       [0],\n",
              "       [0],\n",
              "       [0],\n",
              "       [1],\n",
              "       [0],\n",
              "       [0],\n",
              "       [0],\n",
              "       [1],\n",
              "       [0],\n",
              "       [0],\n",
              "       [0],\n",
              "       [0],\n",
              "       [0],\n",
              "       [0],\n",
              "       [0],\n",
              "       [0],\n",
              "       [1]], dtype=int32)"
            ]
          },
          "metadata": {
            "tags": []
          },
          "execution_count": 20
        }
      ]
    },
    {
      "cell_type": "code",
      "metadata": {
        "id": "kxEs_rEfRY9q",
        "colab": {
          "base_uri": "https://localhost:8080/"
        },
        "outputId": "1881f3e1-17dd-4d7b-991c-1181bc27bd14"
      },
      "source": [
        "pred_cnn = model_1.predict(X_test)\r\n",
        "print(pred_cnn)"
      ],
      "execution_count": null,
      "outputs": [
        {
          "output_type": "stream",
          "text": [
            "[[1.77312903e-02]\n",
            " [9.92492855e-01]\n",
            " [6.18563127e-03]\n",
            " [1.13052605e-02]\n",
            " [2.99340874e-01]\n",
            " [2.84968652e-02]\n",
            " [1.53999943e-02]\n",
            " [9.98461127e-01]\n",
            " [1.50174636e-03]\n",
            " [3.51566933e-02]\n",
            " [9.96542275e-01]\n",
            " [9.90034401e-01]\n",
            " [8.76157824e-03]\n",
            " [9.28854644e-01]\n",
            " [9.58765209e-01]\n",
            " [1.46801651e-01]\n",
            " [9.78841364e-01]\n",
            " [9.13175881e-01]\n",
            " [3.06353755e-02]\n",
            " [3.07155624e-02]\n",
            " [2.21062172e-03]\n",
            " [8.41315649e-03]\n",
            " [7.90550038e-02]\n",
            " [1.13877859e-02]\n",
            " [9.98171091e-01]\n",
            " [5.88451512e-03]\n",
            " [5.91182820e-02]\n",
            " [9.95435655e-01]\n",
            " [2.05185940e-03]\n",
            " [2.25114301e-02]\n",
            " [3.64532858e-01]\n",
            " [4.02421877e-03]\n",
            " [1.32809742e-03]\n",
            " [1.03266174e-02]\n",
            " [1.39385611e-02]\n",
            " [4.03946638e-03]\n",
            " [9.98969197e-01]\n",
            " [1.02338847e-02]\n",
            " [7.52434891e-04]\n",
            " [8.27380747e-04]\n",
            " [1.77344959e-02]\n",
            " [2.28713523e-03]\n",
            " [9.97455657e-01]\n",
            " [2.75022723e-03]\n",
            " [9.92912471e-01]\n",
            " [1.24521749e-02]\n",
            " [4.99738939e-02]\n",
            " [6.97553763e-03]\n",
            " [7.56829619e-01]\n",
            " [3.96183059e-02]\n",
            " [1.43483011e-02]\n",
            " [1.68975163e-02]\n",
            " [9.80452240e-01]\n",
            " [9.93416667e-01]\n",
            " [9.83962603e-03]\n",
            " [4.05961014e-02]\n",
            " [2.91851698e-03]\n",
            " [1.41852228e-02]\n",
            " [2.15668604e-03]\n",
            " [1.31669305e-02]\n",
            " [5.71441017e-02]\n",
            " [2.28356734e-01]\n",
            " [7.53762573e-02]\n",
            " [1.25054002e-01]\n",
            " [4.80431691e-02]\n",
            " [8.43811966e-03]\n",
            " [9.49128903e-03]\n",
            " [7.70511292e-03]\n",
            " [7.81671703e-03]\n",
            " [1.27699729e-02]\n",
            " [3.38047068e-03]\n",
            " [7.90012069e-04]\n",
            " [3.59822228e-03]\n",
            " [5.73609548e-04]\n",
            " [2.58371187e-03]\n",
            " [6.49713073e-03]\n",
            " [4.12818883e-03]\n",
            " [9.96735394e-01]\n",
            " [4.53575933e-03]\n",
            " [8.11731040e-01]\n",
            " [2.00883970e-02]\n",
            " [9.23423911e-04]\n",
            " [1.35439998e-02]\n",
            " [2.49436917e-03]\n",
            " [1.40766976e-02]\n",
            " [1.98235866e-02]\n",
            " [9.93205905e-01]\n",
            " [8.05883575e-03]\n",
            " [1.10306619e-02]\n",
            " [1.39117253e-03]\n",
            " [1.19628450e-02]\n",
            " [5.41772135e-03]\n",
            " [2.10624281e-02]\n",
            " [3.58720368e-04]\n",
            " [7.25650229e-04]\n",
            " [4.98440862e-01]\n",
            " [1.69220902e-02]\n",
            " [5.82537754e-03]\n",
            " [1.52551318e-02]\n",
            " [5.02843549e-03]\n",
            " [9.96539354e-01]\n",
            " [9.89781499e-01]\n",
            " [9.93235648e-01]\n",
            " [1.33524975e-02]\n",
            " [8.06237906e-02]\n",
            " [1.61937368e-03]\n",
            " [3.96811694e-01]\n",
            " [1.22782192e-03]\n",
            " [9.45463660e-04]\n",
            " [9.97913182e-01]\n",
            " [9.69652832e-01]\n",
            " [5.58493614e-01]\n",
            " [9.21496283e-03]\n",
            " [2.96637911e-04]\n",
            " [2.84597714e-04]\n",
            " [2.31404826e-01]\n",
            " [4.48556477e-03]\n",
            " [3.20221006e-04]\n",
            " [5.27058030e-04]\n",
            " [2.66850227e-03]\n",
            " [2.35258080e-02]\n",
            " [3.46740504e-04]\n",
            " [1.77022219e-02]\n",
            " [8.10450967e-03]\n",
            " [8.39175936e-03]\n",
            " [9.97177005e-01]\n",
            " [7.88492325e-05]\n",
            " [9.71967354e-03]\n",
            " [2.49074586e-02]\n",
            " [9.99927640e-01]\n",
            " [5.40571054e-03]\n",
            " [1.86033938e-02]\n",
            " [9.13868964e-01]\n",
            " [9.98646200e-01]\n",
            " [2.51153052e-01]\n",
            " [1.51057858e-02]\n",
            " [9.37861332e-04]\n",
            " [4.25185869e-03]\n",
            " [1.29203768e-02]\n",
            " [1.21853268e-03]\n",
            " [9.80662107e-01]\n",
            " [3.36004980e-02]\n",
            " [4.70611127e-03]\n",
            " [1.28333713e-03]\n",
            " [3.30921747e-02]\n",
            " [4.94886972e-02]\n",
            " [8.26938823e-03]\n",
            " [3.61945406e-02]\n",
            " [1.06021380e-02]\n",
            " [1.57132484e-02]\n",
            " [2.32238439e-04]\n",
            " [1.02331949e-04]\n",
            " [9.68632042e-01]\n",
            " [3.21785756e-03]\n",
            " [2.44522952e-02]\n",
            " [1.50751171e-03]\n",
            " [2.06878502e-03]\n",
            " [6.88989937e-01]\n",
            " [1.02436943e-02]\n",
            " [1.38377678e-03]\n",
            " [6.36306359e-03]\n",
            " [1.67444706e-01]\n",
            " [1.19178044e-03]\n",
            " [9.67539251e-01]\n",
            " [5.60823316e-03]\n",
            " [1.89624639e-04]\n",
            " [9.99367516e-03]\n",
            " [3.39182490e-03]\n",
            " [1.02667753e-02]\n",
            " [4.42056218e-03]\n",
            " [4.56872210e-03]\n",
            " [9.82906669e-03]\n",
            " [1.81848444e-02]\n",
            " [6.79576653e-04]\n",
            " [3.11845616e-02]\n",
            " [4.26117564e-03]\n",
            " [9.97102201e-01]\n",
            " [1.53757095e-01]\n",
            " [1.63271353e-02]\n",
            " [9.99191225e-01]\n",
            " [3.34879518e-01]\n",
            " [4.81977680e-04]\n",
            " [3.70879322e-02]\n",
            " [3.94464051e-03]\n",
            " [1.00249436e-03]\n",
            " [1.26398972e-03]\n",
            " [3.37221823e-03]\n",
            " [8.43427901e-04]\n",
            " [1.51597837e-03]\n",
            " [1.59316771e-02]\n",
            " [9.96534109e-01]\n",
            " [1.45357877e-01]\n",
            " [4.02611541e-03]\n",
            " [9.97625053e-01]\n",
            " [1.93929358e-03]\n",
            " [1.04228966e-03]\n",
            " [9.41814017e-03]\n",
            " [3.66930850e-03]\n",
            " [1.46025866e-02]\n",
            " [9.36066452e-03]\n",
            " [5.25675774e-01]\n",
            " [9.95963454e-01]\n",
            " [5.69677865e-03]\n",
            " [1.92780197e-02]\n",
            " [1.49426842e-02]\n",
            " [6.26330555e-04]\n",
            " [8.38856492e-03]\n",
            " [7.51836924e-03]\n",
            " [8.87485504e-01]\n",
            " [1.18100978e-02]\n",
            " [3.42488438e-02]\n",
            " [3.25206807e-03]\n",
            " [7.92463403e-03]\n",
            " [1.30383288e-02]\n",
            " [1.73258013e-03]\n",
            " [6.12563360e-03]\n",
            " [1.00125730e-01]\n",
            " [2.67878994e-02]\n",
            " [3.61421779e-02]\n",
            " [5.79033904e-02]\n",
            " [5.88530451e-02]\n",
            " [9.90927339e-01]\n",
            " [2.48458423e-02]\n",
            " [3.91211174e-03]\n",
            " [4.70893597e-03]\n",
            " [9.97918665e-01]\n",
            " [9.97665644e-01]\n",
            " [1.77712768e-01]\n",
            " [6.41703280e-03]\n",
            " [8.00515413e-01]\n",
            " [7.19962351e-04]\n",
            " [9.97846603e-01]\n",
            " [7.41068244e-01]\n",
            " [1.87934060e-02]\n",
            " [5.12705278e-03]\n",
            " [1.02534015e-02]\n",
            " [4.97539237e-04]\n",
            " [2.01479029e-02]\n",
            " [9.93769109e-01]\n",
            " [3.73938907e-04]\n",
            " [8.27528443e-03]\n",
            " [2.73115002e-02]\n",
            " [9.95599747e-01]\n",
            " [5.19963866e-03]\n",
            " [9.94422615e-01]\n",
            " [2.86952313e-02]\n",
            " [5.23568410e-03]\n",
            " [9.69485492e-02]\n",
            " [9.99317527e-01]\n",
            " [1.96773326e-04]\n",
            " [9.71221924e-01]\n",
            " [1.65735744e-02]\n",
            " [2.54210341e-03]\n",
            " [3.97258438e-02]\n",
            " [9.89076216e-03]\n",
            " [4.88955586e-04]\n",
            " [2.07279646e-03]\n",
            " [2.43742734e-01]\n",
            " [1.45958111e-01]\n",
            " [1.38552743e-03]\n",
            " [1.36304870e-02]\n",
            " [2.16459706e-02]\n",
            " [6.41847495e-04]\n",
            " [6.95963353e-02]\n",
            " [1.97290573e-02]\n",
            " [2.40642391e-02]\n",
            " [2.86554510e-04]\n",
            " [1.00766020e-02]\n",
            " [7.47978047e-04]\n",
            " [9.97538805e-01]\n",
            " [9.44932748e-04]\n",
            " [1.30573455e-02]\n",
            " [6.38425797e-02]\n",
            " [6.47785468e-03]\n",
            " [9.93666239e-03]\n",
            " [9.99418378e-01]\n",
            " [2.16651801e-02]\n",
            " [9.79337692e-01]\n",
            " [4.64147562e-03]\n",
            " [9.90893126e-01]\n",
            " [5.06966077e-02]\n",
            " [9.96796191e-01]\n",
            " [2.52840412e-03]\n",
            " [4.79718186e-02]\n",
            " [6.30417913e-02]\n",
            " [1.81623437e-02]\n",
            " [1.57703549e-01]\n",
            " [6.69842064e-02]\n",
            " [1.11553224e-03]\n",
            " [3.01173944e-02]\n",
            " [3.60324159e-02]\n",
            " [8.17934051e-02]\n",
            " [3.12270880e-01]\n",
            " [9.94797707e-01]\n",
            " [1.37513075e-02]\n",
            " [1.75304830e-01]\n",
            " [2.09185458e-03]\n",
            " [2.47678515e-02]\n",
            " [9.94086981e-01]\n",
            " [1.40038375e-02]\n",
            " [1.26531431e-02]\n",
            " [9.69875574e-01]\n",
            " [2.12938432e-02]\n",
            " [1.83699057e-01]\n",
            " [2.06201151e-03]\n",
            " [3.88924256e-02]\n",
            " [1.02880979e-02]\n",
            " [9.98031437e-01]\n",
            " [4.82584424e-02]\n",
            " [9.84702885e-01]\n",
            " [9.97657776e-01]\n",
            " [9.99743998e-01]\n",
            " [8.48132884e-04]\n",
            " [6.98257936e-04]\n",
            " [1.93786831e-03]\n",
            " [4.16406058e-02]\n",
            " [4.47471105e-02]\n",
            " [1.65434144e-02]\n",
            " [6.09923445e-04]\n",
            " [6.98452350e-04]\n",
            " [9.93386805e-01]\n",
            " [9.99632239e-01]\n",
            " [1.07106445e-02]\n",
            " [3.20213381e-04]\n",
            " [8.76184367e-03]\n",
            " [9.98688757e-01]\n",
            " [2.24581584e-01]\n",
            " [5.87148650e-04]\n",
            " [9.98704433e-01]\n",
            " [1.98057257e-02]\n",
            " [2.00194918e-04]\n",
            " [1.18948342e-02]\n",
            " [9.97511625e-01]\n",
            " [6.16105972e-03]\n",
            " [1.08610177e-02]\n",
            " [1.67884640e-02]\n",
            " [7.80643243e-03]\n",
            " [4.76490008e-04]\n",
            " [8.85618664e-03]\n",
            " [1.68945864e-02]\n",
            " [2.48113764e-03]\n",
            " [9.95357454e-01]\n",
            " [8.07433296e-03]\n",
            " [9.86874521e-01]\n",
            " [9.15764656e-04]\n",
            " [1.29201671e-03]\n",
            " [1.97893064e-02]\n",
            " [1.95445915e-04]\n",
            " [2.84615941e-02]\n",
            " [5.64130349e-03]\n",
            " [1.03263237e-01]\n",
            " [1.30065426e-01]\n",
            " [1.95227433e-02]\n",
            " [3.87909100e-03]\n",
            " [9.88760352e-01]\n",
            " [2.04843301e-02]\n",
            " [1.90639310e-02]\n",
            " [2.22269446e-04]\n",
            " [2.71019310e-01]\n",
            " [9.98458982e-01]\n",
            " [6.98868930e-03]\n",
            " [1.59043598e-03]\n",
            " [2.76482315e-03]\n",
            " [7.47661179e-05]\n",
            " [2.07297374e-02]\n",
            " [9.37718689e-01]\n",
            " [4.24104929e-03]\n",
            " [5.03435079e-03]\n",
            " [8.54668990e-02]\n",
            " [1.61891500e-03]\n",
            " [4.53058220e-02]\n",
            " [2.88835756e-04]\n",
            " [1.06439814e-02]\n",
            " [9.08589177e-03]\n",
            " [3.76438932e-03]\n",
            " [4.56925714e-04]\n",
            " [2.44354364e-02]\n",
            " [9.97316420e-01]\n",
            " [9.92233276e-01]\n",
            " [1.82676027e-04]\n",
            " [7.81720728e-02]\n",
            " [2.60612718e-03]\n",
            " [2.82083027e-04]\n",
            " [4.25239938e-04]\n",
            " [2.18168343e-03]\n",
            " [5.34624755e-01]\n",
            " [1.78166684e-02]\n",
            " [1.20749213e-02]\n",
            " [3.60114500e-03]\n",
            " [4.03801329e-04]\n",
            " [1.09359398e-02]\n",
            " [1.87019538e-02]\n",
            " [3.92412916e-02]\n",
            " [3.10594663e-02]\n",
            " [8.13408196e-03]\n",
            " [1.08370902e-02]\n",
            " [7.71515369e-02]\n",
            " [5.58530986e-01]\n",
            " [9.65941966e-01]\n",
            " [9.61237121e-03]\n",
            " [1.46448088e-03]\n",
            " [1.97116211e-02]\n",
            " [7.89014064e-03]\n",
            " [9.73725498e-01]\n",
            " [6.68662461e-03]\n",
            " [8.69584441e-01]\n",
            " [4.76313662e-03]\n",
            " [9.66342539e-02]\n",
            " [9.64703381e-01]\n",
            " [5.90929249e-03]\n",
            " [2.56078178e-03]\n",
            " [9.94235814e-01]\n",
            " [5.04376851e-02]\n",
            " [3.60175560e-04]\n",
            " [9.99902368e-01]\n",
            " [3.17819207e-03]\n",
            " [5.11061575e-04]\n",
            " [6.39496669e-02]\n",
            " [3.40769970e-04]\n",
            " [1.04734832e-02]\n",
            " [1.19249534e-03]\n",
            " [1.15758516e-02]\n",
            " [1.52293732e-02]\n",
            " [7.37672090e-05]\n",
            " [3.06259561e-03]\n",
            " [9.89887297e-01]\n",
            " [1.95860937e-02]\n",
            " [4.60863113e-01]\n",
            " [8.88317300e-04]\n",
            " [3.04528922e-01]\n",
            " [9.98767734e-01]\n",
            " [4.02267277e-02]\n",
            " [1.25747379e-02]\n",
            " [7.19200015e-01]\n",
            " [9.95935440e-01]\n",
            " [1.37511902e-02]\n",
            " [7.59813096e-03]\n",
            " [1.67971961e-02]\n",
            " [8.24453868e-03]\n",
            " [1.56740588e-03]\n",
            " [9.99674559e-01]\n",
            " [5.49045950e-03]\n",
            " [8.55310005e-04]\n",
            " [8.53933580e-03]\n",
            " [9.96540844e-01]\n",
            " [1.57088619e-02]\n",
            " [9.97936606e-01]\n",
            " [1.53297856e-02]\n",
            " [9.27390903e-03]\n",
            " [1.90267965e-04]\n",
            " [3.03665712e-03]\n",
            " [3.12188524e-03]\n",
            " [4.06947672e-01]\n",
            " [1.45790987e-02]\n",
            " [2.47524143e-03]\n",
            " [9.99222517e-01]\n",
            " [2.06967056e-01]\n",
            " [1.18319422e-03]\n",
            " [3.92408334e-02]\n",
            " [2.33995970e-02]\n",
            " [9.95647728e-01]\n",
            " [5.55950496e-03]\n",
            " [2.19279155e-02]\n",
            " [1.72075201e-02]\n",
            " [9.25309956e-03]\n",
            " [2.35314872e-02]\n",
            " [7.46730994e-03]\n",
            " [9.97698843e-01]\n",
            " [1.06730796e-02]\n",
            " [8.38638050e-04]\n",
            " [5.44432551e-03]\n",
            " [8.19463611e-01]\n",
            " [9.98492599e-01]\n",
            " [2.63866093e-02]\n",
            " [4.85771149e-02]\n",
            " [1.13683695e-03]\n",
            " [9.54476297e-01]\n",
            " [7.89110735e-03]\n",
            " [4.81382161e-01]\n",
            " [9.95831072e-01]\n",
            " [1.29869863e-04]\n",
            " [4.17337427e-03]\n",
            " [1.92533303e-02]\n",
            " [8.01428687e-03]\n",
            " [1.49393855e-02]\n",
            " [7.80223636e-04]\n",
            " [1.28137749e-02]\n",
            " [2.90067550e-02]\n",
            " [1.82101466e-02]\n",
            " [2.78486069e-02]\n",
            " [9.03284922e-03]\n",
            " [1.08020484e-01]\n",
            " [1.16624720e-02]\n",
            " [2.03622459e-03]\n",
            " [9.41557705e-01]\n",
            " [2.74417281e-01]\n",
            " [6.48483727e-03]\n",
            " [1.12616187e-02]\n",
            " [2.20478140e-03]\n",
            " [1.32493163e-02]\n",
            " [1.99901089e-02]\n",
            " [6.64560497e-02]\n",
            " [1.48828980e-02]\n",
            " [2.21963227e-02]\n",
            " [9.98940766e-01]\n",
            " [8.18780856e-04]\n",
            " [1.33275418e-02]\n",
            " [9.98310447e-01]\n",
            " [1.37921488e-02]\n",
            " [1.24376118e-01]\n",
            " [8.94595742e-01]\n",
            " [9.97888029e-01]\n",
            " [3.56977270e-03]\n",
            " [7.61176809e-04]\n",
            " [5.22890082e-03]\n",
            " [2.03094333e-02]\n",
            " [8.11837893e-03]\n",
            " [6.62074308e-04]\n",
            " [7.13793794e-03]\n",
            " [1.36537198e-02]\n",
            " [1.06653087e-02]\n",
            " [2.51432806e-02]\n",
            " [2.50634253e-02]\n",
            " [2.61733029e-02]\n",
            " [3.13471891e-02]\n",
            " [2.49266042e-04]\n",
            " [4.31541004e-04]\n",
            " [1.68775558e-03]\n",
            " [7.48481695e-03]\n",
            " [7.63117103e-03]\n",
            " [2.76306719e-01]\n",
            " [1.21569121e-02]\n",
            " [1.82339922e-03]\n",
            " [3.21782683e-03]\n",
            " [8.21552396e-01]\n",
            " [2.38729175e-02]\n",
            " [3.92894057e-04]\n",
            " [1.45283742e-02]\n",
            " [3.80503759e-02]\n",
            " [1.00225222e-03]\n",
            " [9.94780958e-01]\n",
            " [4.06589499e-03]\n",
            " [9.96776283e-01]\n",
            " [7.79169612e-04]\n",
            " [9.72531445e-04]\n",
            " [7.45456159e-01]\n",
            " [5.54572931e-03]\n",
            " [1.71676662e-03]\n",
            " [1.10313170e-01]\n",
            " [7.98165705e-03]\n",
            " [5.32137987e-04]\n",
            " [3.90002038e-04]\n",
            " [9.95235503e-01]\n",
            " [9.98134196e-01]\n",
            " [4.18865541e-03]\n",
            " [1.17220104e-01]\n",
            " [9.95925784e-01]\n",
            " [2.96086930e-02]\n",
            " [9.22303740e-03]\n",
            " [7.80885100e-01]\n",
            " [9.87808168e-01]\n",
            " [6.69134827e-03]\n",
            " [5.27901947e-03]\n",
            " [4.66084749e-01]\n",
            " [2.56633431e-01]\n",
            " [2.81036628e-04]\n",
            " [4.42104926e-03]\n",
            " [9.43925418e-03]\n",
            " [5.97335340e-04]\n",
            " [1.36010023e-02]\n",
            " [8.06104671e-03]\n",
            " [7.71565199e-01]\n",
            " [8.54402483e-01]\n",
            " [1.01950442e-04]\n",
            " [9.98134196e-01]\n",
            " [6.83486089e-03]\n",
            " [4.16644588e-02]\n",
            " [1.22898538e-02]\n",
            " [2.32403293e-01]\n",
            " [2.56313439e-02]\n",
            " [7.82934204e-03]\n",
            " [2.18521804e-02]\n",
            " [9.98650253e-01]\n",
            " [8.78480356e-03]\n",
            " [2.15472147e-01]\n",
            " [1.57707110e-01]\n",
            " [1.66081861e-02]\n",
            " [9.99497652e-01]\n",
            " [3.66188557e-04]\n",
            " [1.67552766e-03]\n",
            " [4.15501697e-03]\n",
            " [1.06121242e-01]\n",
            " [1.04035512e-02]\n",
            " [9.97833192e-01]\n",
            " [9.93029296e-01]\n",
            " [1.98282734e-01]\n",
            " [1.00720965e-03]\n",
            " [1.21840116e-04]\n",
            " [2.74399132e-01]\n",
            " [9.96138752e-01]\n",
            " [1.48079293e-02]\n",
            " [7.01358542e-04]\n",
            " [2.82122437e-02]\n",
            " [4.96175792e-03]\n",
            " [9.99295235e-01]\n",
            " [9.98586297e-01]\n",
            " [7.78945722e-03]\n",
            " [3.80315329e-03]\n",
            " [9.20902676e-05]\n",
            " [6.40624901e-03]\n",
            " [9.96919632e-01]\n",
            " [9.93213058e-01]\n",
            " [3.95363681e-02]\n",
            " [8.34058039e-03]\n",
            " [2.36079702e-03]\n",
            " [2.16833665e-03]\n",
            " [2.61956938e-02]\n",
            " [8.45068786e-03]\n",
            " [2.55947420e-03]\n",
            " [1.49802957e-02]\n",
            " [1.64188500e-02]\n",
            " [4.18450451e-03]\n",
            " [1.35047045e-02]\n",
            " [2.33341232e-02]\n",
            " [1.06221754e-02]\n",
            " [1.14230877e-02]\n",
            " [3.15427897e-04]\n",
            " [2.77214069e-02]\n",
            " [9.21185613e-01]\n",
            " [1.74185000e-02]\n",
            " [3.14173177e-02]\n",
            " [2.16116570e-03]\n",
            " [9.64148529e-03]\n",
            " [2.55685169e-02]\n",
            " [1.06011638e-02]\n",
            " [1.41446320e-02]\n",
            " [1.72428172e-02]\n",
            " [8.82203132e-03]\n",
            " [1.46053173e-02]\n",
            " [2.25078333e-02]\n",
            " [4.14363761e-03]\n",
            " [2.85272516e-04]\n",
            " [9.96421337e-01]\n",
            " [1.22992862e-02]\n",
            " [8.81206214e-01]\n",
            " [9.94788289e-01]\n",
            " [9.70667243e-01]\n",
            " [8.40931833e-01]\n",
            " [9.95147526e-01]\n",
            " [7.09098822e-04]\n",
            " [4.41204617e-03]\n",
            " [1.31970765e-02]\n",
            " [6.10263320e-04]\n",
            " [3.02932877e-02]\n",
            " [2.27972623e-02]\n",
            " [6.53409690e-04]\n",
            " [1.93684734e-02]\n",
            " [1.32027520e-02]\n",
            " [2.53409669e-02]\n",
            " [3.92914866e-04]\n",
            " [5.70966184e-01]\n",
            " [7.86011945e-03]\n",
            " [9.96883571e-01]\n",
            " [6.05507579e-04]\n",
            " [9.85335350e-01]\n",
            " [4.94063599e-03]\n",
            " [4.21480499e-02]\n",
            " [3.01104169e-02]\n",
            " [6.34240866e-01]\n",
            " [1.19872456e-02]\n",
            " [3.27430144e-02]\n",
            " [4.51894291e-03]\n",
            " [8.31667893e-03]\n",
            " [1.12640876e-02]\n",
            " [9.97049153e-01]\n",
            " [9.98842061e-01]\n",
            " [7.55554438e-01]\n",
            " [4.93983645e-03]\n",
            " [1.89783219e-02]\n",
            " [7.53877801e-04]\n",
            " [6.75401127e-04]\n",
            " [2.94829775e-02]\n",
            " [9.98385668e-01]\n",
            " [1.03078187e-02]\n",
            " [6.60863221e-02]\n",
            " [1.94567721e-04]\n",
            " [2.36462848e-03]\n",
            " [9.99048054e-01]\n",
            " [9.01538581e-02]\n",
            " [2.28064181e-03]\n",
            " [9.13834851e-03]\n",
            " [4.36346419e-02]\n",
            " [9.84631360e-01]\n",
            " [9.96915698e-01]\n",
            " [9.97679651e-01]\n",
            " [3.21785756e-03]\n",
            " [1.05747730e-01]\n",
            " [6.88229427e-02]\n",
            " [3.65812741e-02]\n",
            " [1.51756098e-02]\n",
            " [7.08481413e-04]\n",
            " [6.91603720e-02]\n",
            " [9.88410950e-01]\n",
            " [1.95313897e-03]\n",
            " [1.42118067e-01]\n",
            " [1.40009597e-02]\n",
            " [9.01221335e-01]\n",
            " [8.88309674e-04]\n",
            " [9.98197734e-01]\n",
            " [2.93524433e-02]\n",
            " [1.25650559e-02]\n",
            " [1.89561881e-02]\n",
            " [9.37220454e-03]\n",
            " [2.96908822e-02]\n",
            " [2.91356258e-02]\n",
            " [9.98941839e-01]\n",
            " [9.84926149e-03]\n",
            " [9.98261750e-01]\n",
            " [9.96364653e-01]\n",
            " [4.70506437e-02]\n",
            " [2.12490521e-02]\n",
            " [1.44148851e-02]\n",
            " [1.31726463e-03]\n",
            " [4.04388690e-03]\n",
            " [5.14807515e-02]\n",
            " [9.91315603e-01]\n",
            " [1.13474810e-02]\n",
            " [7.27009086e-04]\n",
            " [9.58231091e-03]\n",
            " [9.95619714e-01]\n",
            " [5.37277479e-03]\n",
            " [1.64675325e-01]\n",
            " [1.85654894e-01]\n",
            " [9.85108435e-01]\n",
            " [3.70342322e-02]\n",
            " [1.06283262e-01]\n",
            " [2.36279443e-02]\n",
            " [9.99005497e-01]\n",
            " [2.85599643e-04]\n",
            " [2.17207167e-02]\n",
            " [5.34933899e-03]\n",
            " [7.29045412e-03]\n",
            " [2.56609339e-02]\n",
            " [1.71892550e-02]\n",
            " [1.93483874e-01]\n",
            " [2.04426120e-03]\n",
            " [9.95554626e-01]]\n"
          ],
          "name": "stdout"
        }
      ]
    },
    {
      "cell_type": "code",
      "metadata": {
        "colab": {
          "base_uri": "https://localhost:8080/"
        },
        "id": "NTqwHx8neSqS",
        "outputId": "9514c23b-eac5-4fdb-c511-87668e2ebd6a"
      },
      "source": [
        "pred_cnn[2][0]"
      ],
      "execution_count": null,
      "outputs": [
        {
          "output_type": "execute_result",
          "data": {
            "text/plain": [
              "0.0061856313"
            ]
          },
          "metadata": {
            "tags": []
          },
          "execution_count": 62
        }
      ]
    },
    {
      "cell_type": "code",
      "metadata": {
        "id": "ryecnN49o9I4"
      },
      "source": [
        "model_1.save('sample_data/cnn_model.h5')"
      ],
      "execution_count": null,
      "outputs": []
    },
    {
      "cell_type": "code",
      "metadata": {
        "id": "1G56HYpfdK8L"
      },
      "source": [
        "model_1.save('sample_data/cnn_model_95.h5')"
      ],
      "execution_count": null,
      "outputs": []
    },
    {
      "cell_type": "code",
      "metadata": {
        "id": "oP467OL9pXA4"
      },
      "source": [
        "import tensorflow as tf\r\n",
        "\r\n",
        "cnn_model = tf.keras.models.load_model('sample_data/cnn_model_95class.h5')"
      ],
      "execution_count": null,
      "outputs": []
    },
    {
      "cell_type": "code",
      "metadata": {
        "colab": {
          "base_uri": "https://localhost:8080/"
        },
        "id": "8yYBIBwjis_n",
        "outputId": "652d0d4b-232f-4460-aa80-fe3ff6983623"
      },
      "source": [
        "scores = cnn_model.evaluate(X_test, y_test, verbose=0)\r\n",
        "print(scores)"
      ],
      "execution_count": 20,
      "outputs": [
        {
          "output_type": "stream",
          "text": [
            "[0.1208440363407135, 0.9544845819473267]\n"
          ],
          "name": "stdout"
        }
      ]
    },
    {
      "cell_type": "code",
      "metadata": {
        "id": "Ju9vaxiyh_az",
        "colab": {
          "base_uri": "https://localhost:8080/"
        },
        "outputId": "f46edc95-2f2c-4db1-d3f7-fa4644bfa0c0"
      },
      "source": [
        "pred = cnn_model.predict_classes(X_test)\r\n",
        "\r\n",
        "from sklearn.metrics import roc_auc_score, f1_score, accuracy_score\r\n",
        "\r\n",
        "F1_score = f1_score(y_test, pred, average='binary')\r\n",
        "print(\"F1 score is\", F1_score)\r\n",
        "\r\n",
        "accuracy_score = accuracy_score(y_test, pred)\r\n",
        "print(\"Acuracy is \", accuracy_score)\r\n",
        "\r\n",
        "pred_proba = cnn_model.predict(X_test)\r\n",
        "auc_score = roc_auc_score(y_test, pred_proba)\r\n",
        "print(\"AUC score is \", auc_score)"
      ],
      "execution_count": 21,
      "outputs": [
        {
          "output_type": "stream",
          "text": [
            "/usr/local/lib/python3.6/dist-packages/tensorflow/python/keras/engine/sequential.py:450: UserWarning: `model.predict_classes()` is deprecated and will be removed after 2021-01-01. Please use instead:* `np.argmax(model.predict(x), axis=-1)`,   if your model does multi-class classification   (e.g. if it uses a `softmax` last-layer activation).* `(model.predict(x) > 0.5).astype(\"int32\")`,   if your model does binary classification   (e.g. if it uses a `sigmoid` last-layer activation).\n",
            "  warnings.warn('`model.predict_classes()` is deprecated and '\n"
          ],
          "name": "stderr"
        },
        {
          "output_type": "stream",
          "text": [
            "F1 score is 0.8843537414965987\n",
            "Acuracy is  0.9544846050870147\n",
            "AUC score is  0.9876428044960383\n"
          ],
          "name": "stdout"
        }
      ]
    }
  ]
}